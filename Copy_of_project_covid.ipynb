{
  "cells": [
    {
      "cell_type": "markdown",
      "metadata": {
        "id": "view-in-github",
        "colab_type": "text"
      },
      "source": [
        "<a href=\"https://colab.research.google.com/github/SumayyaShaji/project1/blob/main/Copy_of_project_covid.ipynb\" target=\"_parent\"><img src=\"https://colab.research.google.com/assets/colab-badge.svg\" alt=\"Open In Colab\"/></a>"
      ]
    },
    {
      "cell_type": "code",
      "execution_count": null,
      "metadata": {
        "colab": {
          "base_uri": "https://localhost:8080/"
        },
        "id": "IjJjo_4q9EzN",
        "outputId": "f919a060-ba72-4486-b7cd-5c294a214468"
      },
      "outputs": [
        {
          "output_type": "stream",
          "name": "stdout",
          "text": [
            "[nltk_data] Downloading package punkt to /root/nltk_data...\n",
            "[nltk_data]   Package punkt is already up-to-date!\n",
            "[nltk_data] Downloading package wordnet to /root/nltk_data...\n",
            "[nltk_data]   Package wordnet is already up-to-date!\n",
            "[nltk_data] Downloading package averaged_perceptron_tagger to\n",
            "[nltk_data]     /root/nltk_data...\n",
            "[nltk_data]   Package averaged_perceptron_tagger is already up-to-\n",
            "[nltk_data]       date!\n",
            "[nltk_data] Downloading package stopwords to /root/nltk_data...\n",
            "[nltk_data]   Package stopwords is already up-to-date!\n"
          ]
        }
      ],
      "source": [
        "import pandas as pd\n",
        "#Data Viz Pkg\n",
        "import matplotlib.pyplot as plt\n",
        "import seaborn as sns\n",
        "from textblob import TextBlob\n",
        "import numpy as np # linear algebbra\n",
        "from nltk.tokenize import word_tokenize\n",
        "from nltk import pos_tag\n",
        "import nltk\n",
        "nltk.download('punkt')\n",
        "nltk.download('wordnet')\n",
        "nltk.download('averaged_perceptron_tagger')\n",
        "nltk.download('stopwords')\n",
        "from nltk.stem import WordNetLemmatizer,PorterStemmer\n",
        "from sklearn.preprocessing import LabelEncoder\n",
        "from collections import defaultdict\n",
        "from nltk.corpus import wordnet as wn\n",
        "from sklearn.feature_extraction.text import TfidfVectorizer\n",
        "from sklearn import model_selection, naive_bayes, svm\n",
        "from sklearn.metrics import accuracy_score\n",
        "from nltk.corpus import stopwords\n",
        "from sklearn.metrics import confusion_matrix\n",
        "from sklearn.metrics import classification_report\n",
        "\n",
        "\n",
        "\n"
      ]
    },
    {
      "cell_type": "code",
      "execution_count": null,
      "metadata": {
        "colab": {
          "base_uri": "https://localhost:8080/",
          "height": 143
        },
        "id": "zh-mm0Vm9j7_",
        "outputId": "9fc49eae-fb97-4b57-d4cb-2f77cf0237b0"
      },
      "outputs": [
        {
          "output_type": "execute_result",
          "data": {
            "text/html": [
              "\n",
              "  <div id=\"df-dbc9ab35-3049-48b4-aa96-ba5d06135e70\">\n",
              "    <div class=\"colab-df-container\">\n",
              "      <div>\n",
              "<style scoped>\n",
              "    .dataframe tbody tr th:only-of-type {\n",
              "        vertical-align: middle;\n",
              "    }\n",
              "\n",
              "    .dataframe tbody tr th {\n",
              "        vertical-align: top;\n",
              "    }\n",
              "\n",
              "    .dataframe thead th {\n",
              "        text-align: right;\n",
              "    }\n",
              "</style>\n",
              "<table border=\"1\" class=\"dataframe\">\n",
              "  <thead>\n",
              "    <tr style=\"text-align: right;\">\n",
              "      <th></th>\n",
              "      <th>source</th>\n",
              "      <th>headlines</th>\n",
              "      <th>description</th>\n",
              "    </tr>\n",
              "  </thead>\n",
              "  <tbody>\n",
              "    <tr>\n",
              "      <th>0</th>\n",
              "      <td>ABC</td>\n",
              "      <td>Where Australia's first international tourists...</td>\n",
              "      <td>Visitors from New Zealand, Singapore, South Ko...</td>\n",
              "    </tr>\n",
              "    <tr>\n",
              "      <th>1</th>\n",
              "      <td>UPI</td>\n",
              "      <td>China hasn't reported COVID-19 death in year w...</td>\n",
              "      <td>\"This year, it's been an absolute nightmare,\" ...</td>\n",
              "    </tr>\n",
              "    <tr>\n",
              "      <th>2</th>\n",
              "      <td>The Japan Times</td>\n",
              "      <td>Glimmers of hope, but Doomsday Clock stuck at ...</td>\n",
              "      <td>... remains at 100 seconds to midnight this ye...</td>\n",
              "    </tr>\n",
              "  </tbody>\n",
              "</table>\n",
              "</div>\n",
              "      <button class=\"colab-df-convert\" onclick=\"convertToInteractive('df-dbc9ab35-3049-48b4-aa96-ba5d06135e70')\"\n",
              "              title=\"Convert this dataframe to an interactive table.\"\n",
              "              style=\"display:none;\">\n",
              "        \n",
              "  <svg xmlns=\"http://www.w3.org/2000/svg\" height=\"24px\"viewBox=\"0 0 24 24\"\n",
              "       width=\"24px\">\n",
              "    <path d=\"M0 0h24v24H0V0z\" fill=\"none\"/>\n",
              "    <path d=\"M18.56 5.44l.94 2.06.94-2.06 2.06-.94-2.06-.94-.94-2.06-.94 2.06-2.06.94zm-11 1L8.5 8.5l.94-2.06 2.06-.94-2.06-.94L8.5 2.5l-.94 2.06-2.06.94zm10 10l.94 2.06.94-2.06 2.06-.94-2.06-.94-.94-2.06-.94 2.06-2.06.94z\"/><path d=\"M17.41 7.96l-1.37-1.37c-.4-.4-.92-.59-1.43-.59-.52 0-1.04.2-1.43.59L10.3 9.45l-7.72 7.72c-.78.78-.78 2.05 0 2.83L4 21.41c.39.39.9.59 1.41.59.51 0 1.02-.2 1.41-.59l7.78-7.78 2.81-2.81c.8-.78.8-2.07 0-2.86zM5.41 20L4 18.59l7.72-7.72 1.47 1.35L5.41 20z\"/>\n",
              "  </svg>\n",
              "      </button>\n",
              "      \n",
              "  <style>\n",
              "    .colab-df-container {\n",
              "      display:flex;\n",
              "      flex-wrap:wrap;\n",
              "      gap: 12px;\n",
              "    }\n",
              "\n",
              "    .colab-df-convert {\n",
              "      background-color: #E8F0FE;\n",
              "      border: none;\n",
              "      border-radius: 50%;\n",
              "      cursor: pointer;\n",
              "      display: none;\n",
              "      fill: #1967D2;\n",
              "      height: 32px;\n",
              "      padding: 0 0 0 0;\n",
              "      width: 32px;\n",
              "    }\n",
              "\n",
              "    .colab-df-convert:hover {\n",
              "      background-color: #E2EBFA;\n",
              "      box-shadow: 0px 1px 2px rgba(60, 64, 67, 0.3), 0px 1px 3px 1px rgba(60, 64, 67, 0.15);\n",
              "      fill: #174EA6;\n",
              "    }\n",
              "\n",
              "    [theme=dark] .colab-df-convert {\n",
              "      background-color: #3B4455;\n",
              "      fill: #D2E3FC;\n",
              "    }\n",
              "\n",
              "    [theme=dark] .colab-df-convert:hover {\n",
              "      background-color: #434B5C;\n",
              "      box-shadow: 0px 1px 3px 1px rgba(0, 0, 0, 0.15);\n",
              "      filter: drop-shadow(0px 1px 2px rgba(0, 0, 0, 0.3));\n",
              "      fill: #FFFFFF;\n",
              "    }\n",
              "  </style>\n",
              "\n",
              "      <script>\n",
              "        const buttonEl =\n",
              "          document.querySelector('#df-dbc9ab35-3049-48b4-aa96-ba5d06135e70 button.colab-df-convert');\n",
              "        buttonEl.style.display =\n",
              "          google.colab.kernel.accessAllowed ? 'block' : 'none';\n",
              "\n",
              "        async function convertToInteractive(key) {\n",
              "          const element = document.querySelector('#df-dbc9ab35-3049-48b4-aa96-ba5d06135e70');\n",
              "          const dataTable =\n",
              "            await google.colab.kernel.invokeFunction('convertToInteractive',\n",
              "                                                     [key], {});\n",
              "          if (!dataTable) return;\n",
              "\n",
              "          const docLinkHtml = 'Like what you see? Visit the ' +\n",
              "            '<a target=\"_blank\" href=https://colab.research.google.com/notebooks/data_table.ipynb>data table notebook</a>'\n",
              "            + ' to learn more about interactive tables.';\n",
              "          element.innerHTML = '';\n",
              "          dataTable['output_type'] = 'display_data';\n",
              "          await google.colab.output.renderOutput(dataTable, element);\n",
              "          const docLink = document.createElement('div');\n",
              "          docLink.innerHTML = docLinkHtml;\n",
              "          element.appendChild(docLink);\n",
              "        }\n",
              "      </script>\n",
              "    </div>\n",
              "  </div>\n",
              "  "
            ],
            "text/plain": [
              "            source  ...                                        description\n",
              "0              ABC  ...  Visitors from New Zealand, Singapore, South Ko...\n",
              "1              UPI  ...  \"This year, it's been an absolute nightmare,\" ...\n",
              "2  The Japan Times  ...  ... remains at 100 seconds to midnight this ye...\n",
              "\n",
              "[3 rows x 3 columns]"
            ]
          },
          "metadata": {},
          "execution_count": 189
        }
      ],
      "source": [
        "df = pd.read_csv(\"covid-19.csv\", encoding='utf-8')\n",
        "df.head(3)"
      ]
    },
    {
      "cell_type": "code",
      "execution_count": null,
      "metadata": {
        "colab": {
          "base_uri": "https://localhost:8080/"
        },
        "id": "mPdY5Pg5998J",
        "outputId": "45cf5b88-4d07-41be-80e1-2b834bf4a39d"
      },
      "outputs": [
        {
          "output_type": "execute_result",
          "data": {
            "text/plain": [
              "(1034, 3)"
            ]
          },
          "metadata": {},
          "execution_count": 190
        }
      ],
      "source": [
        "df.shape"
      ]
    },
    {
      "cell_type": "code",
      "execution_count": null,
      "metadata": {
        "colab": {
          "base_uri": "https://localhost:8080/"
        },
        "id": "CufCtdP8a9xJ",
        "outputId": "19b8eabb-d92a-4c8d-f88b-32910192dcf2"
      },
      "outputs": [
        {
          "output_type": "execute_result",
          "data": {
            "text/plain": [
              "(941, 3)"
            ]
          },
          "metadata": {},
          "execution_count": 191
        }
      ],
      "source": [
        "df = df.drop_duplicates('headlines')\n",
        "df.shape\n"
      ]
    },
    {
      "cell_type": "code",
      "execution_count": null,
      "metadata": {
        "colab": {
          "base_uri": "https://localhost:8080/"
        },
        "id": "uhSLvPhH-cj9",
        "outputId": "28ae012f-10ed-40a5-8c6e-5c3349043a2a"
      },
      "outputs": [
        {
          "output_type": "stream",
          "name": "stdout",
          "text": [
            "<class 'pandas.core.frame.DataFrame'>\n",
            "Int64Index: 941 entries, 0 to 1033\n",
            "Data columns (total 3 columns):\n",
            " #   Column       Non-Null Count  Dtype \n",
            "---  ------       --------------  ----- \n",
            " 0   source       940 non-null    object\n",
            " 1   headlines    940 non-null    object\n",
            " 2   description  940 non-null    object\n",
            "dtypes: object(3)\n",
            "memory usage: 29.4+ KB\n"
          ]
        }
      ],
      "source": [
        "df.info()\n"
      ]
    },
    {
      "cell_type": "code",
      "execution_count": null,
      "metadata": {
        "colab": {
          "base_uri": "https://localhost:8080/",
          "height": 174
        },
        "id": "BrCi5lrv-rvk",
        "outputId": "388b5adf-f53b-49bd-938b-2d482094e9be"
      },
      "outputs": [
        {
          "output_type": "execute_result",
          "data": {
            "text/html": [
              "\n",
              "  <div id=\"df-51e3c7df-5619-4354-8ce3-7ddcc1aa6e42\">\n",
              "    <div class=\"colab-df-container\">\n",
              "      <div>\n",
              "<style scoped>\n",
              "    .dataframe tbody tr th:only-of-type {\n",
              "        vertical-align: middle;\n",
              "    }\n",
              "\n",
              "    .dataframe tbody tr th {\n",
              "        vertical-align: top;\n",
              "    }\n",
              "\n",
              "    .dataframe thead th {\n",
              "        text-align: right;\n",
              "    }\n",
              "</style>\n",
              "<table border=\"1\" class=\"dataframe\">\n",
              "  <thead>\n",
              "    <tr style=\"text-align: right;\">\n",
              "      <th></th>\n",
              "      <th>source</th>\n",
              "      <th>headlines</th>\n",
              "      <th>description</th>\n",
              "    </tr>\n",
              "  </thead>\n",
              "  <tbody>\n",
              "    <tr>\n",
              "      <th>count</th>\n",
              "      <td>940</td>\n",
              "      <td>940</td>\n",
              "      <td>940</td>\n",
              "    </tr>\n",
              "    <tr>\n",
              "      <th>unique</th>\n",
              "      <td>164</td>\n",
              "      <td>940</td>\n",
              "      <td>918</td>\n",
              "    </tr>\n",
              "    <tr>\n",
              "      <th>top</th>\n",
              "      <td>Times of India</td>\n",
              "      <td>Where Australia's first international tourists...</td>\n",
              "      <td>Trending Topics · Top Stories Right Now · Foll...</td>\n",
              "    </tr>\n",
              "    <tr>\n",
              "      <th>freq</th>\n",
              "      <td>95</td>\n",
              "      <td>1</td>\n",
              "      <td>7</td>\n",
              "    </tr>\n",
              "  </tbody>\n",
              "</table>\n",
              "</div>\n",
              "      <button class=\"colab-df-convert\" onclick=\"convertToInteractive('df-51e3c7df-5619-4354-8ce3-7ddcc1aa6e42')\"\n",
              "              title=\"Convert this dataframe to an interactive table.\"\n",
              "              style=\"display:none;\">\n",
              "        \n",
              "  <svg xmlns=\"http://www.w3.org/2000/svg\" height=\"24px\"viewBox=\"0 0 24 24\"\n",
              "       width=\"24px\">\n",
              "    <path d=\"M0 0h24v24H0V0z\" fill=\"none\"/>\n",
              "    <path d=\"M18.56 5.44l.94 2.06.94-2.06 2.06-.94-2.06-.94-.94-2.06-.94 2.06-2.06.94zm-11 1L8.5 8.5l.94-2.06 2.06-.94-2.06-.94L8.5 2.5l-.94 2.06-2.06.94zm10 10l.94 2.06.94-2.06 2.06-.94-2.06-.94-.94-2.06-.94 2.06-2.06.94z\"/><path d=\"M17.41 7.96l-1.37-1.37c-.4-.4-.92-.59-1.43-.59-.52 0-1.04.2-1.43.59L10.3 9.45l-7.72 7.72c-.78.78-.78 2.05 0 2.83L4 21.41c.39.39.9.59 1.41.59.51 0 1.02-.2 1.41-.59l7.78-7.78 2.81-2.81c.8-.78.8-2.07 0-2.86zM5.41 20L4 18.59l7.72-7.72 1.47 1.35L5.41 20z\"/>\n",
              "  </svg>\n",
              "      </button>\n",
              "      \n",
              "  <style>\n",
              "    .colab-df-container {\n",
              "      display:flex;\n",
              "      flex-wrap:wrap;\n",
              "      gap: 12px;\n",
              "    }\n",
              "\n",
              "    .colab-df-convert {\n",
              "      background-color: #E8F0FE;\n",
              "      border: none;\n",
              "      border-radius: 50%;\n",
              "      cursor: pointer;\n",
              "      display: none;\n",
              "      fill: #1967D2;\n",
              "      height: 32px;\n",
              "      padding: 0 0 0 0;\n",
              "      width: 32px;\n",
              "    }\n",
              "\n",
              "    .colab-df-convert:hover {\n",
              "      background-color: #E2EBFA;\n",
              "      box-shadow: 0px 1px 2px rgba(60, 64, 67, 0.3), 0px 1px 3px 1px rgba(60, 64, 67, 0.15);\n",
              "      fill: #174EA6;\n",
              "    }\n",
              "\n",
              "    [theme=dark] .colab-df-convert {\n",
              "      background-color: #3B4455;\n",
              "      fill: #D2E3FC;\n",
              "    }\n",
              "\n",
              "    [theme=dark] .colab-df-convert:hover {\n",
              "      background-color: #434B5C;\n",
              "      box-shadow: 0px 1px 3px 1px rgba(0, 0, 0, 0.15);\n",
              "      filter: drop-shadow(0px 1px 2px rgba(0, 0, 0, 0.3));\n",
              "      fill: #FFFFFF;\n",
              "    }\n",
              "  </style>\n",
              "\n",
              "      <script>\n",
              "        const buttonEl =\n",
              "          document.querySelector('#df-51e3c7df-5619-4354-8ce3-7ddcc1aa6e42 button.colab-df-convert');\n",
              "        buttonEl.style.display =\n",
              "          google.colab.kernel.accessAllowed ? 'block' : 'none';\n",
              "\n",
              "        async function convertToInteractive(key) {\n",
              "          const element = document.querySelector('#df-51e3c7df-5619-4354-8ce3-7ddcc1aa6e42');\n",
              "          const dataTable =\n",
              "            await google.colab.kernel.invokeFunction('convertToInteractive',\n",
              "                                                     [key], {});\n",
              "          if (!dataTable) return;\n",
              "\n",
              "          const docLinkHtml = 'Like what you see? Visit the ' +\n",
              "            '<a target=\"_blank\" href=https://colab.research.google.com/notebooks/data_table.ipynb>data table notebook</a>'\n",
              "            + ' to learn more about interactive tables.';\n",
              "          element.innerHTML = '';\n",
              "          dataTable['output_type'] = 'display_data';\n",
              "          await google.colab.output.renderOutput(dataTable, element);\n",
              "          const docLink = document.createElement('div');\n",
              "          docLink.innerHTML = docLinkHtml;\n",
              "          element.appendChild(docLink);\n",
              "        }\n",
              "      </script>\n",
              "    </div>\n",
              "  </div>\n",
              "  "
            ],
            "text/plain": [
              "                source  ...                                        description\n",
              "count              940  ...                                                940\n",
              "unique             164  ...                                                918\n",
              "top     Times of India  ...  Trending Topics · Top Stories Right Now · Foll...\n",
              "freq                95  ...                                                  7\n",
              "\n",
              "[4 rows x 3 columns]"
            ]
          },
          "metadata": {},
          "execution_count": 193
        }
      ],
      "source": [
        "df.describe()\n"
      ]
    },
    {
      "cell_type": "code",
      "execution_count": null,
      "metadata": {
        "colab": {
          "base_uri": "https://localhost:8080/"
        },
        "id": "87MrY3ZUAbj3",
        "outputId": "b806073e-4644-4588-a862-2c2402afd493"
      },
      "outputs": [
        {
          "output_type": "execute_result",
          "data": {
            "text/plain": [
              "source         0.001063\n",
              "headlines      0.001063\n",
              "description    0.001063\n",
              "dtype: float64"
            ]
          },
          "metadata": {},
          "execution_count": 194
        }
      ],
      "source": [
        "df.isnull().mean()\n"
      ]
    },
    {
      "cell_type": "code",
      "execution_count": null,
      "metadata": {
        "colab": {
          "base_uri": "https://localhost:8080/",
          "height": 206
        },
        "id": "5pfucN7GTm5M",
        "outputId": "ff190890-86cc-4bd6-b8af-609eba8e2744"
      },
      "outputs": [
        {
          "output_type": "execute_result",
          "data": {
            "text/html": [
              "\n",
              "  <div id=\"df-8dde0d57-cc43-4636-b195-41c88d8c7c58\">\n",
              "    <div class=\"colab-df-container\">\n",
              "      <div>\n",
              "<style scoped>\n",
              "    .dataframe tbody tr th:only-of-type {\n",
              "        vertical-align: middle;\n",
              "    }\n",
              "\n",
              "    .dataframe tbody tr th {\n",
              "        vertical-align: top;\n",
              "    }\n",
              "\n",
              "    .dataframe thead th {\n",
              "        text-align: right;\n",
              "    }\n",
              "</style>\n",
              "<table border=\"1\" class=\"dataframe\">\n",
              "  <thead>\n",
              "    <tr style=\"text-align: right;\">\n",
              "      <th></th>\n",
              "      <th>source</th>\n",
              "      <th>headlines</th>\n",
              "      <th>description</th>\n",
              "    </tr>\n",
              "  </thead>\n",
              "  <tbody>\n",
              "    <tr>\n",
              "      <th>0</th>\n",
              "      <td>ABC</td>\n",
              "      <td>Where Australia's first international tourists...</td>\n",
              "      <td>Visitors from New Zealand, Singapore, South Ko...</td>\n",
              "    </tr>\n",
              "    <tr>\n",
              "      <th>1</th>\n",
              "      <td>UPI</td>\n",
              "      <td>China hasn't reported COVID-19 death in year w...</td>\n",
              "      <td>\"This year, it's been an absolute nightmare,\" ...</td>\n",
              "    </tr>\n",
              "    <tr>\n",
              "      <th>2</th>\n",
              "      <td>The Japan Times</td>\n",
              "      <td>Glimmers of hope, but Doomsday Clock stuck at ...</td>\n",
              "      <td>... remains at 100 seconds to midnight this ye...</td>\n",
              "    </tr>\n",
              "    <tr>\n",
              "      <th>3</th>\n",
              "      <td>Devex</td>\n",
              "      <td>COVID-19 in 2021 — a timeline of the coronavir...</td>\n",
              "      <td>And for earlier news, visit the timeline for 2...</td>\n",
              "    </tr>\n",
              "    <tr>\n",
              "      <th>4</th>\n",
              "      <td>Firstpost</td>\n",
              "      <td>Explained: All you wanted to know ski jumping ...</td>\n",
              "      <td>Explained: All you wanted to know ski jumping ...</td>\n",
              "    </tr>\n",
              "  </tbody>\n",
              "</table>\n",
              "</div>\n",
              "      <button class=\"colab-df-convert\" onclick=\"convertToInteractive('df-8dde0d57-cc43-4636-b195-41c88d8c7c58')\"\n",
              "              title=\"Convert this dataframe to an interactive table.\"\n",
              "              style=\"display:none;\">\n",
              "        \n",
              "  <svg xmlns=\"http://www.w3.org/2000/svg\" height=\"24px\"viewBox=\"0 0 24 24\"\n",
              "       width=\"24px\">\n",
              "    <path d=\"M0 0h24v24H0V0z\" fill=\"none\"/>\n",
              "    <path d=\"M18.56 5.44l.94 2.06.94-2.06 2.06-.94-2.06-.94-.94-2.06-.94 2.06-2.06.94zm-11 1L8.5 8.5l.94-2.06 2.06-.94-2.06-.94L8.5 2.5l-.94 2.06-2.06.94zm10 10l.94 2.06.94-2.06 2.06-.94-2.06-.94-.94-2.06-.94 2.06-2.06.94z\"/><path d=\"M17.41 7.96l-1.37-1.37c-.4-.4-.92-.59-1.43-.59-.52 0-1.04.2-1.43.59L10.3 9.45l-7.72 7.72c-.78.78-.78 2.05 0 2.83L4 21.41c.39.39.9.59 1.41.59.51 0 1.02-.2 1.41-.59l7.78-7.78 2.81-2.81c.8-.78.8-2.07 0-2.86zM5.41 20L4 18.59l7.72-7.72 1.47 1.35L5.41 20z\"/>\n",
              "  </svg>\n",
              "      </button>\n",
              "      \n",
              "  <style>\n",
              "    .colab-df-container {\n",
              "      display:flex;\n",
              "      flex-wrap:wrap;\n",
              "      gap: 12px;\n",
              "    }\n",
              "\n",
              "    .colab-df-convert {\n",
              "      background-color: #E8F0FE;\n",
              "      border: none;\n",
              "      border-radius: 50%;\n",
              "      cursor: pointer;\n",
              "      display: none;\n",
              "      fill: #1967D2;\n",
              "      height: 32px;\n",
              "      padding: 0 0 0 0;\n",
              "      width: 32px;\n",
              "    }\n",
              "\n",
              "    .colab-df-convert:hover {\n",
              "      background-color: #E2EBFA;\n",
              "      box-shadow: 0px 1px 2px rgba(60, 64, 67, 0.3), 0px 1px 3px 1px rgba(60, 64, 67, 0.15);\n",
              "      fill: #174EA6;\n",
              "    }\n",
              "\n",
              "    [theme=dark] .colab-df-convert {\n",
              "      background-color: #3B4455;\n",
              "      fill: #D2E3FC;\n",
              "    }\n",
              "\n",
              "    [theme=dark] .colab-df-convert:hover {\n",
              "      background-color: #434B5C;\n",
              "      box-shadow: 0px 1px 3px 1px rgba(0, 0, 0, 0.15);\n",
              "      filter: drop-shadow(0px 1px 2px rgba(0, 0, 0, 0.3));\n",
              "      fill: #FFFFFF;\n",
              "    }\n",
              "  </style>\n",
              "\n",
              "      <script>\n",
              "        const buttonEl =\n",
              "          document.querySelector('#df-8dde0d57-cc43-4636-b195-41c88d8c7c58 button.colab-df-convert');\n",
              "        buttonEl.style.display =\n",
              "          google.colab.kernel.accessAllowed ? 'block' : 'none';\n",
              "\n",
              "        async function convertToInteractive(key) {\n",
              "          const element = document.querySelector('#df-8dde0d57-cc43-4636-b195-41c88d8c7c58');\n",
              "          const dataTable =\n",
              "            await google.colab.kernel.invokeFunction('convertToInteractive',\n",
              "                                                     [key], {});\n",
              "          if (!dataTable) return;\n",
              "\n",
              "          const docLinkHtml = 'Like what you see? Visit the ' +\n",
              "            '<a target=\"_blank\" href=https://colab.research.google.com/notebooks/data_table.ipynb>data table notebook</a>'\n",
              "            + ' to learn more about interactive tables.';\n",
              "          element.innerHTML = '';\n",
              "          dataTable['output_type'] = 'display_data';\n",
              "          await google.colab.output.renderOutput(dataTable, element);\n",
              "          const docLink = document.createElement('div');\n",
              "          docLink.innerHTML = docLinkHtml;\n",
              "          element.appendChild(docLink);\n",
              "        }\n",
              "      </script>\n",
              "    </div>\n",
              "  </div>\n",
              "  "
            ],
            "text/plain": [
              "            source  ...                                        description\n",
              "0              ABC  ...  Visitors from New Zealand, Singapore, South Ko...\n",
              "1              UPI  ...  \"This year, it's been an absolute nightmare,\" ...\n",
              "2  The Japan Times  ...  ... remains at 100 seconds to midnight this ye...\n",
              "3            Devex  ...  And for earlier news, visit the timeline for 2...\n",
              "4        Firstpost  ...  Explained: All you wanted to know ski jumping ...\n",
              "\n",
              "[5 rows x 3 columns]"
            ]
          },
          "metadata": {},
          "execution_count": 195
        }
      ],
      "source": [
        "df.head()"
      ]
    },
    {
      "cell_type": "code",
      "execution_count": null,
      "metadata": {
        "colab": {
          "base_uri": "https://localhost:8080/"
        },
        "id": "6zf7EqMkFyXR",
        "outputId": "f3b830fd-e925-47d0-8faf-6eea4717f3d3"
      },
      "outputs": [
        {
          "output_type": "execute_result",
          "data": {
            "text/plain": [
              "Index(['source', 'headlines', 'description'], dtype='object')"
            ]
          },
          "metadata": {},
          "execution_count": 196
        }
      ],
      "source": [
        "df.columns"
      ]
    },
    {
      "cell_type": "code",
      "execution_count": null,
      "metadata": {
        "colab": {
          "base_uri": "https://localhost:8080/"
        },
        "id": "V6OM3Bk3F8yL",
        "outputId": "fc8c5939-43f1-4293-93ea-4f3acb5adec4"
      },
      "outputs": [
        {
          "output_type": "execute_result",
          "data": {
            "text/plain": [
              "source         object\n",
              "headlines      object\n",
              "description    object\n",
              "dtype: object"
            ]
          },
          "metadata": {},
          "execution_count": 197
        }
      ],
      "source": [
        "df.dtypes\n"
      ]
    },
    {
      "cell_type": "code",
      "execution_count": null,
      "metadata": {
        "colab": {
          "base_uri": "https://localhost:8080/",
          "height": 282
        },
        "id": "aauTRbJ1bQTV",
        "outputId": "d49ab363-9ac8-48ea-9d60-d8c819b46c33"
      },
      "outputs": [
        {
          "output_type": "execute_result",
          "data": {
            "text/plain": [
              "<matplotlib.axes._subplots.AxesSubplot at 0x7f12e9d52fd0>"
            ]
          },
          "metadata": {},
          "execution_count": 198
        },
        {
          "output_type": "display_data",
          "data": {
            "image/png": "[encoded data removed]",
            "text/plain": [
              "<Figure size 432x288 with 1 Axes>"
            ]
          },
          "metadata": {
            "needs_background": "light"
          }
        }
      ],
      "source": [
        "df['headlines'].str.len().hist()\n"
      ]
    },
    {
      "cell_type": "code",
      "execution_count": null,
      "metadata": {
        "colab": {
          "base_uri": "https://localhost:8080/"
        },
        "id": "MkxgZyt-GOZw",
        "outputId": "054f5b77-c349-4ac0-ee23-34f34071b9bd"
      },
      "outputs": [
        {
          "output_type": "execute_result",
          "data": {
            "text/plain": [
              "array(['ABC', 'UPI', 'The Japan Times', 'Devex', 'Firstpost', 'Valneva',\n",
              "       'Traveller.com.au', 'Fortune', 'The Economic Times', 'UN News',\n",
              "       'Times of India', 'The New York Times', 'BBC',\n",
              "       'Carnegie Endowment for International Peace', 'The Hindu',\n",
              "       'ThePrint', 'The Financial Express', 'Bloomberg.com',\n",
              "       'Business Wire', 'DVIDS', 'TIME', 'Financial Times', 'Japan Today',\n",
              "       'UCA News', 'Business Standard', 'USA Today', 'Hindustan Times',\n",
              "       'Asahi Shimbun', 'Deccan Herald',\n",
              "       'Regulatory Affairs Professionals Society', 'Nature', 'Reuters',\n",
              "       'The White House', 'Healthline', 'The Boston Globe',\n",
              "       'Down To Earth', 'CNN', 'WHO | World Health Organization',\n",
              "       'Nikkei Asia', 'NBC News', 'CNBC', 'Pharmaceutical Technology',\n",
              "       'OpIndia', 'The New Yorker', 'News18', 'Forbes India', 'India.com',\n",
              "       'India Today', 'SDG Knowledge Hub', 'Mint', 'NPR', 'The Economist',\n",
              "       'Human Rights Watch', 'Medical News Today', 'CBC',\n",
              "       'Pew Research Center', 'The Indian Express',\n",
              "       'The World Economic Forum',\n",
              "       'Genetic Engineering and Biotechnology News',\n",
              "       'Business Insider India', 'The Hindu Business Line', 'NDTV.com',\n",
              "       'USNews.com', 'DW', 'Al Jazeera', 'World Bank Group', 'Times Now',\n",
              "       'The Guardian', 'VOA', 'Los Angeles Times', 'UNCTAD',\n",
              "       'Free Press Journal', 'Business Today', 'ABC News', 'Daily Mail',\n",
              "       'Toronto Star', 'Bloomberg Quint', 'ANI News',\n",
              "       'WHO | Regional Office for Africa', 'Africanews',\n",
              "       'The Conversation', 'The Hockey News', 'European Commission',\n",
              "       'WHO/Europe', 'Lincoln Journal Star', 'Euronews', 'Yahoo Finance',\n",
              "       'CTV News London', 'London Free Press', 'AP News', 'CBS News',\n",
              "       'Sky News', 'Imperial College London', 'Arab News',\n",
              "       'The News International', 'Saudi Gazette', 'Khaleej Times',\n",
              "       'NZ Herald', 'Gulf News', 'Medscape', 'Republic World', nan,\n",
              "       'Moneycontrol', 'Politico', 'CTV News', 'The Independent',\n",
              "       'Global News', 'National Post', 'Zee News', 'CNBC TV18',\n",
              "       'Onmanorama', 'The New Indian Express', 'The National',\n",
              "       'Fredericksburg', 'News.com.au', 'ABP LIVE', 'Schengen Visa',\n",
              "       'Dawn', 'France 24', 'InsideTheGames', 'Get French Football News',\n",
              "       'The Connexion', 'Devdiscourse', 'WION', 'RugbyPass',\n",
              "       'Verywell Health', 'The Local Italy', 'The Washington Post',\n",
              "       'France Diplomatie', 'Fibre2Fashion', 'CEMjEf', 'The Motley Fool',\n",
              "       'Outlook India', 'Siasat.com', 'The Local France', 'New Scientist',\n",
              "       'GOV.UK', 'Huffington Post', 'The Moscow Times', \"L'Internaute\",\n",
              "       'Sortir à Paris', 'The Straits Times', 'CNA', 'Inform.kz',\n",
              "       'Tribune India', 'Independent.ie', 'Automotive News Europe',\n",
              "       'ReliefWeb', 'The Telegraph', 'Light Reading', 'Wanted in Rome',\n",
              "       'Technology Networks', 'The Points Guy', 'TelecomTV',\n",
              "       'FlightGlobal', 'Telegraph India', 'Tennis.com', 'TheCable',\n",
              "       'GlobeNewswire', 'S&P Global', 'Forbes', 'IndiaTV News',\n",
              "       'ET HealthWorld', 'PortSwigger', 'DTNext'], dtype=object)"
            ]
          },
          "metadata": {},
          "execution_count": 199
        }
      ],
      "source": [
        "df['source'].unique()"
      ]
    },
    {
      "cell_type": "code",
      "execution_count": null,
      "metadata": {
        "colab": {
          "base_uri": "https://localhost:8080/"
        },
        "id": "c1Bb0-clGe0v",
        "outputId": "39b171eb-b26a-46e2-c848-a69ef928b10e"
      },
      "outputs": [
        {
          "output_type": "execute_result",
          "data": {
            "text/plain": [
              "Times of India       95\n",
              "Hindustan Times      51\n",
              "The Hindu            51\n",
              "Schengen Visa        42\n",
              "Business Standard    39\n",
              "                     ..\n",
              "Global News           1\n",
              "The Independent       1\n",
              "The New Yorker        1\n",
              "Politico              1\n",
              "DTNext                1\n",
              "Name: source, Length: 164, dtype: int64"
            ]
          },
          "metadata": {},
          "execution_count": 200
        }
      ],
      "source": [
        "df['source'].value_counts()"
      ]
    },
    {
      "cell_type": "code",
      "execution_count": null,
      "metadata": {
        "colab": {
          "base_uri": "https://localhost:8080/"
        },
        "id": "6iVfX0pGG2NK",
        "outputId": "0d02d3fb-2d32-4230-af61-782ad6dc5281"
      },
      "outputs": [
        {
          "output_type": "execute_result",
          "data": {
            "text/plain": [
              "Times of India                     95\n",
              "Hindustan Times                    51\n",
              "The Hindu                          51\n",
              "Schengen Visa                      42\n",
              "Business Standard                  39\n",
              "The Economic Times                 36\n",
              "News18                             30\n",
              "Reuters                            30\n",
              "The Indian Express                 28\n",
              "NDTV.com                           27\n",
              "The Local Italy                    25\n",
              "The Guardian                       25\n",
              "France 24                          24\n",
              "The Financial Express              24\n",
              "Mint                               17\n",
              "BBC                                16\n",
              "India Today                        16\n",
              "Al Jazeera                         16\n",
              "Firstpost                          14\n",
              "USA Today                          12\n",
              "India.com                          12\n",
              "WHO | World Health Organization    11\n",
              "Arab News                          10\n",
              "Bloomberg.com                       9\n",
              "WION                                8\n",
              "CNBC                                8\n",
              "Nature                              8\n",
              "Zee News                            6\n",
              "Republic World                      6\n",
              "CNN                                 6\n",
              "Name: source, dtype: int64"
            ]
          },
          "metadata": {},
          "execution_count": 201
        }
      ],
      "source": [
        "df['source'].value_counts().nlargest(30)"
      ]
    },
    {
      "cell_type": "code",
      "execution_count": null,
      "metadata": {
        "colab": {
          "base_uri": "https://localhost:8080/",
          "height": 439
        },
        "id": "pWsEhXBIHL7F",
        "outputId": "136adefe-beb1-4240-f189-471fd8d204e8"
      },
      "outputs": [
        {
          "output_type": "execute_result",
          "data": {
            "text/plain": [
              "<matplotlib.axes._subplots.AxesSubplot at 0x7f12e9c5c550>"
            ]
          },
          "metadata": {},
          "execution_count": 202
        },
        {
          "output_type": "display_data",
          "data": {
            "image/png": "[encoded data removed]",
            "text/plain": [
              "<Figure size 432x288 with 1 Axes>"
            ]
          },
          "metadata": {
            "needs_background": "light"
          }
        }
      ],
      "source": [
        "df['source'].value_counts().nlargest(30).plot(kind='bar')"
      ]
    },
    {
      "cell_type": "code",
      "execution_count": null,
      "metadata": {
        "id": "PskQDL5aNEZc"
      },
      "outputs": [],
      "source": [
        "df['headlines']=df['headlines'].apply(str)\n"
      ]
    },
    {
      "cell_type": "code",
      "execution_count": null,
      "metadata": {
        "colab": {
          "base_uri": "https://localhost:8080/"
        },
        "id": "5NmjNkBdFgbd",
        "outputId": "3075785e-0770-4c85-d88e-bd36f3b23ed9"
      },
      "outputs": [
        {
          "output_type": "stream",
          "name": "stdout",
          "text": [
            "Requirement already satisfied: neattext in /usr/local/lib/python3.7/dist-packages (0.1.2)\n"
          ]
        }
      ],
      "source": [
        "!pip install neattext\n",
        "# Load Text Cleaning Package\n",
        "import neattext.functions as nfx"
      ]
    },
    {
      "cell_type": "code",
      "execution_count": null,
      "metadata": {
        "colab": {
          "base_uri": "https://localhost:8080/",
          "height": 423
        },
        "id": "XeSPCB2iN0ct",
        "outputId": "1ceaba0b-ddad-43cd-d354-87f453fde127"
      },
      "outputs": [
        {
          "output_type": "execute_result",
          "data": {
            "text/html": [
              "\n",
              "  <div id=\"df-d543f4b3-7423-4154-8d52-aaab1f4bea1a\">\n",
              "    <div class=\"colab-df-container\">\n",
              "      <div>\n",
              "<style scoped>\n",
              "    .dataframe tbody tr th:only-of-type {\n",
              "        vertical-align: middle;\n",
              "    }\n",
              "\n",
              "    .dataframe tbody tr th {\n",
              "        vertical-align: top;\n",
              "    }\n",
              "\n",
              "    .dataframe thead th {\n",
              "        text-align: right;\n",
              "    }\n",
              "</style>\n",
              "<table border=\"1\" class=\"dataframe\">\n",
              "  <thead>\n",
              "    <tr style=\"text-align: right;\">\n",
              "      <th></th>\n",
              "      <th>headlines</th>\n",
              "      <th>clean_text</th>\n",
              "    </tr>\n",
              "  </thead>\n",
              "  <tbody>\n",
              "    <tr>\n",
              "      <th>0</th>\n",
              "      <td>Where Australia's first international tourists...</td>\n",
              "      <td>where australias first international tourists ...</td>\n",
              "    </tr>\n",
              "    <tr>\n",
              "      <th>1</th>\n",
              "      <td>China hasn't reported COVID-19 death in year w...</td>\n",
              "      <td>china hasnt reported covid19 death in year wit...</td>\n",
              "    </tr>\n",
              "    <tr>\n",
              "      <th>2</th>\n",
              "      <td>Glimmers of hope, but Doomsday Clock stuck at ...</td>\n",
              "      <td>glimmers of hope but doomsday clock stuck at 1...</td>\n",
              "    </tr>\n",
              "    <tr>\n",
              "      <th>3</th>\n",
              "      <td>COVID-19 in 2021 — a timeline of the coronavir...</td>\n",
              "      <td>covid19 in 2021 — a timeline of the coronaviru...</td>\n",
              "    </tr>\n",
              "    <tr>\n",
              "      <th>4</th>\n",
              "      <td>Explained: All you wanted to know ski jumping ...</td>\n",
              "      <td>explained: all you wanted to know ski jumping ...</td>\n",
              "    </tr>\n",
              "    <tr>\n",
              "      <th>...</th>\n",
              "      <td>...</td>\n",
              "      <td>...</td>\n",
              "    </tr>\n",
              "    <tr>\n",
              "      <th>1029</th>\n",
              "      <td>France, Italy impose strict covid-19 vaccine m...</td>\n",
              "      <td>france italy impose strict covid19 vaccine man...</td>\n",
              "    </tr>\n",
              "    <tr>\n",
              "      <th>1030</th>\n",
              "      <td>Italy – once overwhelmed by COVID-19 – turns t...</td>\n",
              "      <td>italy – once overwhelmed by covid19 – turns to...</td>\n",
              "    </tr>\n",
              "    <tr>\n",
              "      <th>1031</th>\n",
              "      <td>Italy's deleveraging success could help limit ...</td>\n",
              "      <td>italys deleveraging success could help limit m...</td>\n",
              "    </tr>\n",
              "    <tr>\n",
              "      <th>1032</th>\n",
              "      <td>Italy bans New Year events as COVID infections...</td>\n",
              "      <td>italy bans new year events as covid infections...</td>\n",
              "    </tr>\n",
              "    <tr>\n",
              "      <th>1033</th>\n",
              "      <td>Four more Italian regions become 'yellow' zone...</td>\n",
              "      <td>four more italian regions become yellow zones ...</td>\n",
              "    </tr>\n",
              "  </tbody>\n",
              "</table>\n",
              "<p>941 rows × 2 columns</p>\n",
              "</div>\n",
              "      <button class=\"colab-df-convert\" onclick=\"convertToInteractive('df-d543f4b3-7423-4154-8d52-aaab1f4bea1a')\"\n",
              "              title=\"Convert this dataframe to an interactive table.\"\n",
              "              style=\"display:none;\">\n",
              "        \n",
              "  <svg xmlns=\"http://www.w3.org/2000/svg\" height=\"24px\"viewBox=\"0 0 24 24\"\n",
              "       width=\"24px\">\n",
              "    <path d=\"M0 0h24v24H0V0z\" fill=\"none\"/>\n",
              "    <path d=\"M18.56 5.44l.94 2.06.94-2.06 2.06-.94-2.06-.94-.94-2.06-.94 2.06-2.06.94zm-11 1L8.5 8.5l.94-2.06 2.06-.94-2.06-.94L8.5 2.5l-.94 2.06-2.06.94zm10 10l.94 2.06.94-2.06 2.06-.94-2.06-.94-.94-2.06-.94 2.06-2.06.94z\"/><path d=\"M17.41 7.96l-1.37-1.37c-.4-.4-.92-.59-1.43-.59-.52 0-1.04.2-1.43.59L10.3 9.45l-7.72 7.72c-.78.78-.78 2.05 0 2.83L4 21.41c.39.39.9.59 1.41.59.51 0 1.02-.2 1.41-.59l7.78-7.78 2.81-2.81c.8-.78.8-2.07 0-2.86zM5.41 20L4 18.59l7.72-7.72 1.47 1.35L5.41 20z\"/>\n",
              "  </svg>\n",
              "      </button>\n",
              "      \n",
              "  <style>\n",
              "    .colab-df-container {\n",
              "      display:flex;\n",
              "      flex-wrap:wrap;\n",
              "      gap: 12px;\n",
              "    }\n",
              "\n",
              "    .colab-df-convert {\n",
              "      background-color: #E8F0FE;\n",
              "      border: none;\n",
              "      border-radius: 50%;\n",
              "      cursor: pointer;\n",
              "      display: none;\n",
              "      fill: #1967D2;\n",
              "      height: 32px;\n",
              "      padding: 0 0 0 0;\n",
              "      width: 32px;\n",
              "    }\n",
              "\n",
              "    .colab-df-convert:hover {\n",
              "      background-color: #E2EBFA;\n",
              "      box-shadow: 0px 1px 2px rgba(60, 64, 67, 0.3), 0px 1px 3px 1px rgba(60, 64, 67, 0.15);\n",
              "      fill: #174EA6;\n",
              "    }\n",
              "\n",
              "    [theme=dark] .colab-df-convert {\n",
              "      background-color: #3B4455;\n",
              "      fill: #D2E3FC;\n",
              "    }\n",
              "\n",
              "    [theme=dark] .colab-df-convert:hover {\n",
              "      background-color: #434B5C;\n",
              "      box-shadow: 0px 1px 3px 1px rgba(0, 0, 0, 0.15);\n",
              "      filter: drop-shadow(0px 1px 2px rgba(0, 0, 0, 0.3));\n",
              "      fill: #FFFFFF;\n",
              "    }\n",
              "  </style>\n",
              "\n",
              "      <script>\n",
              "        const buttonEl =\n",
              "          document.querySelector('#df-d543f4b3-7423-4154-8d52-aaab1f4bea1a button.colab-df-convert');\n",
              "        buttonEl.style.display =\n",
              "          google.colab.kernel.accessAllowed ? 'block' : 'none';\n",
              "\n",
              "        async function convertToInteractive(key) {\n",
              "          const element = document.querySelector('#df-d543f4b3-7423-4154-8d52-aaab1f4bea1a');\n",
              "          const dataTable =\n",
              "            await google.colab.kernel.invokeFunction('convertToInteractive',\n",
              "                                                     [key], {});\n",
              "          if (!dataTable) return;\n",
              "\n",
              "          const docLinkHtml = 'Like what you see? Visit the ' +\n",
              "            '<a target=\"_blank\" href=https://colab.research.google.com/notebooks/data_table.ipynb>data table notebook</a>'\n",
              "            + ' to learn more about interactive tables.';\n",
              "          element.innerHTML = '';\n",
              "          dataTable['output_type'] = 'display_data';\n",
              "          await google.colab.output.renderOutput(dataTable, element);\n",
              "          const docLink = document.createElement('div');\n",
              "          docLink.innerHTML = docLinkHtml;\n",
              "          element.appendChild(docLink);\n",
              "        }\n",
              "      </script>\n",
              "    </div>\n",
              "  </div>\n",
              "  "
            ],
            "text/plain": [
              "                                              headlines                                         clean_text\n",
              "0     Where Australia's first international tourists...  where australias first international tourists ...\n",
              "1     China hasn't reported COVID-19 death in year w...  china hasnt reported covid19 death in year wit...\n",
              "2     Glimmers of hope, but Doomsday Clock stuck at ...  glimmers of hope but doomsday clock stuck at 1...\n",
              "3     COVID-19 in 2021 — a timeline of the coronavir...  covid19 in 2021 — a timeline of the coronaviru...\n",
              "4     Explained: All you wanted to know ski jumping ...  explained: all you wanted to know ski jumping ...\n",
              "...                                                 ...                                                ...\n",
              "1029  France, Italy impose strict covid-19 vaccine m...  france italy impose strict covid19 vaccine man...\n",
              "1030  Italy – once overwhelmed by COVID-19 – turns t...  italy – once overwhelmed by covid19 – turns to...\n",
              "1031  Italy's deleveraging success could help limit ...  italys deleveraging success could help limit m...\n",
              "1032  Italy bans New Year events as COVID infections...  italy bans new year events as covid infections...\n",
              "1033  Four more Italian regions become 'yellow' zone...  four more italian regions become yellow zones ...\n",
              "\n",
              "[941 rows x 2 columns]"
            ]
          },
          "metadata": {},
          "execution_count": 205
        }
      ],
      "source": [
        "# Cleaning Text\n",
        "df['clean_text'] = df['headlines'].apply(nfx.remove_hashtags)\n",
        "\n",
        "# Cleaning Text: Multiple WhiteSpaces\n",
        "df['clean_text'] = df['clean_text'].apply(nfx.remove_multiple_spaces)\n",
        "# Cleaning Text : Remove urls\n",
        "df['clean_text'] = df['clean_text'].apply(nfx.remove_urls)\n",
        "# Cleaning Text: Punctuations\n",
        "df['clean_text'] = df['clean_text'].apply(nfx.remove_puncts)\n",
        "#Remove blank rows if any.\n",
        "df['clean_text'] .dropna(inplace=True)\n",
        "# Change all the text to lower case.\n",
        "df['clean_text']  = [entry.lower() for entry in df['clean_text'] ]\n",
        "df[['headlines','clean_text']]\n",
        "\n",
        "\n"
      ]
    },
    {
      "cell_type": "code",
      "execution_count": null,
      "metadata": {
        "colab": {
          "base_uri": "https://localhost:8080/"
        },
        "id": "Z9XzTfuVOVCQ",
        "outputId": "c3fa2c38-ea3d-4281-952e-08d9e5cbfaae"
      },
      "outputs": [
        {
          "output_type": "execute_result",
          "data": {
            "text/plain": [
              "0       [where, australias, first, international, tour...\n",
              "1       [china, hasnt, reported, covid19, death, in, y...\n",
              "2       [glimmers, of, hope, but, doomsday, clock, stu...\n",
              "3       [covid19, in, 2021, —, a, timeline, of, the, c...\n",
              "4       [explained, :, all, you, wanted, to, know, ski...\n",
              "                              ...                        \n",
              "1029    [france, italy, impose, strict, covid19, vacci...\n",
              "1030    [italy, –, once, overwhelmed, by, covid19, –, ...\n",
              "1031    [italys, deleveraging, success, could, help, l...\n",
              "1032    [italy, bans, new, year, events, as, covid, in...\n",
              "1033    [four, more, italian, regions, become, yellow,...\n",
              "Name: clean_text, Length: 941, dtype: object"
            ]
          },
          "metadata": {},
          "execution_count": 206
        }
      ],
      "source": [
        "# Tokenization\n",
        "df['clean_text']= [word_tokenize(entry) for entry in df['clean_text']]\n",
        "df['clean_text']\n"
      ]
    },
    {
      "cell_type": "code",
      "execution_count": null,
      "metadata": {
        "colab": {
          "base_uri": "https://localhost:8080/"
        },
        "id": "2FcXiIljOeXb",
        "outputId": "7d0b754a-39f7-4439-cbc3-9c1846c25ab3"
      },
      "outputs": [
        {
          "output_type": "execute_result",
          "data": {
            "text/plain": [
              "0    [where, australias, first, international, tour...\n",
              "1    [china, hasnt, reported, covid19, death, in, y...\n",
              "2    [glimmers, of, hope, but, doomsday, clock, stu...\n",
              "Name: clean_text, dtype: object"
            ]
          },
          "metadata": {},
          "execution_count": 207
        }
      ],
      "source": [
        "df['clean_text'].head(3)\n"
      ]
    },
    {
      "cell_type": "code",
      "execution_count": null,
      "metadata": {
        "id": "55FBTA7xOrm7"
      },
      "outputs": [],
      "source": [
        "stop_words = set(stopwords.words('english'))\n",
        "\n",
        "def remove_stopwords(words):\n",
        "  return [word for word in words if  not word in stop_words]\n",
        "df['clean_text']=df['clean_text'].apply(lambda x: remove_stopwords(x))\n",
        "\n",
        "\n",
        "def stemming(words):\n",
        "  ps=PorterStemmer()\n",
        "  return [ps.stem(word) for word in words]\n",
        "df['clean_text']=df['clean_text'].apply(lambda x: stemming(x))\n",
        "\n",
        "def lemmatizing(words):\n",
        "    lemmatizer =WordNetLemmatizer()\n",
        "    return [lemmatizer.lemmatize(word) for word in words]\n",
        "df['clean_text']=df['clean_text'].apply(lambda x: lemmatizing(x))\n",
        "\n",
        "def final_text(words):\n",
        "     return ' '.join(words)\n",
        "df['clean_text']=df['clean_text'].apply(lambda x:final_text(x))\n"
      ]
    },
    {
      "cell_type": "code",
      "execution_count": null,
      "metadata": {
        "colab": {
          "base_uri": "https://localhost:8080/"
        },
        "id": "K26O3K7yO2xt",
        "outputId": "6201b1e8-e08e-4724-f5a7-e406f801abb1"
      },
      "outputs": [
        {
          "output_type": "execute_result",
          "data": {
            "text/plain": [
              "0    australia first intern tourist come border reo...\n",
              "1     china hasnt report covid19 death year zero toler\n",
              "2         glimmer hope doomsday clock stuck 100 second\n",
              "3           covid19 2021 — timelin coronaviru outbreak\n",
              "4    explain : want know ski jump beij winter olymp...\n",
              "Name: clean_text, dtype: object"
            ]
          },
          "metadata": {},
          "execution_count": 209
        }
      ],
      "source": [
        "df['clean_text'].head()\n"
      ]
    },
    {
      "cell_type": "code",
      "execution_count": null,
      "metadata": {
        "id": "RvyYlKaaPB8H"
      },
      "outputs": [],
      "source": [
        "def get_sentiment(headlines):\n",
        "    blob = TextBlob(headlines)\n",
        "    sentiment_polarity = blob.sentiment.polarity\n",
        "    sentiment_subjectivity = blob.sentiment.subjectivity\n",
        "    if sentiment_polarity > 0:\n",
        "        sentiment_label = 'Positive'\n",
        "    elif sentiment_polarity < 0:\n",
        "        sentiment_label = 'Negative'\n",
        "    else:\n",
        "        sentiment_label = 'Neutral'\n",
        "    result = {'polarity':sentiment_polarity,\n",
        "              'subjectivity':sentiment_subjectivity,\n",
        "              'sentiment':sentiment_label}\n",
        "    return result\n"
      ]
    },
    {
      "cell_type": "code",
      "execution_count": null,
      "metadata": {
        "colab": {
          "base_uri": "https://localhost:8080/"
        },
        "id": "cwOX9c-aPSBZ",
        "outputId": "16fb2bef-7310-446b-fe15-9b4392c40116"
      },
      "outputs": [
        {
          "output_type": "execute_result",
          "data": {
            "text/plain": [
              "0       {'polarity': 0.25, 'subjectivity': 0.333333333...\n",
              "1       {'polarity': 0.0, 'subjectivity': 0.0, 'sentim...\n",
              "2       {'polarity': 0.0, 'subjectivity': 0.0, 'sentim...\n",
              "3       {'polarity': 0.0, 'subjectivity': 0.0, 'sentim...\n",
              "4       {'polarity': 0.0, 'subjectivity': 0.0, 'sentim...\n",
              "                              ...                        \n",
              "1029    {'polarity': 0.0, 'subjectivity': 0.0, 'sentim...\n",
              "1030    {'polarity': 0.0, 'subjectivity': 0.0, 'sentim...\n",
              "1031    {'polarity': 0.3, 'subjectivity': 0.0, 'sentim...\n",
              "1032    {'polarity': 0.13636363636363635, 'subjectivit...\n",
              "1033    {'polarity': 0.0, 'subjectivity': 0.0, 'sentim...\n",
              "Name: sentiment_results, Length: 941, dtype: object"
            ]
          },
          "metadata": {},
          "execution_count": 211
        }
      ],
      "source": [
        "df['sentiment_results'] = df['clean_text'].apply(get_sentiment)\n",
        "df['sentiment_results']\n"
      ]
    },
    {
      "cell_type": "code",
      "execution_count": null,
      "metadata": {
        "colab": {
          "base_uri": "https://localhost:8080/",
          "height": 424
        },
        "id": "pMgr_rw7PbKM",
        "outputId": "979b30b4-5b5e-4e60-a5b9-37ff8af4f32d"
      },
      "outputs": [
        {
          "output_type": "execute_result",
          "data": {
            "text/html": [
              "\n",
              "  <div id=\"df-acbd63fd-3afa-4184-8dc8-3bfc3fe5e9e9\">\n",
              "    <div class=\"colab-df-container\">\n",
              "      <div>\n",
              "<style scoped>\n",
              "    .dataframe tbody tr th:only-of-type {\n",
              "        vertical-align: middle;\n",
              "    }\n",
              "\n",
              "    .dataframe tbody tr th {\n",
              "        vertical-align: top;\n",
              "    }\n",
              "\n",
              "    .dataframe thead th {\n",
              "        text-align: right;\n",
              "    }\n",
              "</style>\n",
              "<table border=\"1\" class=\"dataframe\">\n",
              "  <thead>\n",
              "    <tr style=\"text-align: right;\">\n",
              "      <th></th>\n",
              "      <th>source</th>\n",
              "      <th>headlines</th>\n",
              "      <th>description</th>\n",
              "      <th>clean_text</th>\n",
              "      <th>sentiment_results</th>\n",
              "      <th>polarity</th>\n",
              "      <th>subjectivity</th>\n",
              "      <th>sentiment</th>\n",
              "    </tr>\n",
              "  </thead>\n",
              "  <tbody>\n",
              "    <tr>\n",
              "      <th>0</th>\n",
              "      <td>ABC</td>\n",
              "      <td>Where Australia's first international tourists...</td>\n",
              "      <td>Visitors from New Zealand, Singapore, South Ko...</td>\n",
              "      <td>australia first intern tourist come border reo...</td>\n",
              "      <td>{'polarity': 0.25, 'subjectivity': 0.333333333...</td>\n",
              "      <td>0.25</td>\n",
              "      <td>0.333333</td>\n",
              "      <td>Positive</td>\n",
              "    </tr>\n",
              "    <tr>\n",
              "      <th>1</th>\n",
              "      <td>UPI</td>\n",
              "      <td>China hasn't reported COVID-19 death in year w...</td>\n",
              "      <td>\"This year, it's been an absolute nightmare,\" ...</td>\n",
              "      <td>china hasnt report covid19 death year zero toler</td>\n",
              "      <td>{'polarity': 0.0, 'subjectivity': 0.0, 'sentim...</td>\n",
              "      <td>0.00</td>\n",
              "      <td>0.000000</td>\n",
              "      <td>Neutral</td>\n",
              "    </tr>\n",
              "    <tr>\n",
              "      <th>2</th>\n",
              "      <td>The Japan Times</td>\n",
              "      <td>Glimmers of hope, but Doomsday Clock stuck at ...</td>\n",
              "      <td>... remains at 100 seconds to midnight this ye...</td>\n",
              "      <td>glimmer hope doomsday clock stuck 100 second</td>\n",
              "      <td>{'polarity': 0.0, 'subjectivity': 0.0, 'sentim...</td>\n",
              "      <td>0.00</td>\n",
              "      <td>0.000000</td>\n",
              "      <td>Neutral</td>\n",
              "    </tr>\n",
              "    <tr>\n",
              "      <th>3</th>\n",
              "      <td>Devex</td>\n",
              "      <td>COVID-19 in 2021 — a timeline of the coronavir...</td>\n",
              "      <td>And for earlier news, visit the timeline for 2...</td>\n",
              "      <td>covid19 2021 — timelin coronaviru outbreak</td>\n",
              "      <td>{'polarity': 0.0, 'subjectivity': 0.0, 'sentim...</td>\n",
              "      <td>0.00</td>\n",
              "      <td>0.000000</td>\n",
              "      <td>Neutral</td>\n",
              "    </tr>\n",
              "    <tr>\n",
              "      <th>4</th>\n",
              "      <td>Firstpost</td>\n",
              "      <td>Explained: All you wanted to know ski jumping ...</td>\n",
              "      <td>Explained: All you wanted to know ski jumping ...</td>\n",
              "      <td>explain : want know ski jump beij winter olymp...</td>\n",
              "      <td>{'polarity': 0.0, 'subjectivity': 0.0, 'sentim...</td>\n",
              "      <td>0.00</td>\n",
              "      <td>0.000000</td>\n",
              "      <td>Neutral</td>\n",
              "    </tr>\n",
              "  </tbody>\n",
              "</table>\n",
              "</div>\n",
              "      <button class=\"colab-df-convert\" onclick=\"convertToInteractive('df-acbd63fd-3afa-4184-8dc8-3bfc3fe5e9e9')\"\n",
              "              title=\"Convert this dataframe to an interactive table.\"\n",
              "              style=\"display:none;\">\n",
              "        \n",
              "  <svg xmlns=\"http://www.w3.org/2000/svg\" height=\"24px\"viewBox=\"0 0 24 24\"\n",
              "       width=\"24px\">\n",
              "    <path d=\"M0 0h24v24H0V0z\" fill=\"none\"/>\n",
              "    <path d=\"M18.56 5.44l.94 2.06.94-2.06 2.06-.94-2.06-.94-.94-2.06-.94 2.06-2.06.94zm-11 1L8.5 8.5l.94-2.06 2.06-.94-2.06-.94L8.5 2.5l-.94 2.06-2.06.94zm10 10l.94 2.06.94-2.06 2.06-.94-2.06-.94-.94-2.06-.94 2.06-2.06.94z\"/><path d=\"M17.41 7.96l-1.37-1.37c-.4-.4-.92-.59-1.43-.59-.52 0-1.04.2-1.43.59L10.3 9.45l-7.72 7.72c-.78.78-.78 2.05 0 2.83L4 21.41c.39.39.9.59 1.41.59.51 0 1.02-.2 1.41-.59l7.78-7.78 2.81-2.81c.8-.78.8-2.07 0-2.86zM5.41 20L4 18.59l7.72-7.72 1.47 1.35L5.41 20z\"/>\n",
              "  </svg>\n",
              "      </button>\n",
              "      \n",
              "  <style>\n",
              "    .colab-df-container {\n",
              "      display:flex;\n",
              "      flex-wrap:wrap;\n",
              "      gap: 12px;\n",
              "    }\n",
              "\n",
              "    .colab-df-convert {\n",
              "      background-color: #E8F0FE;\n",
              "      border: none;\n",
              "      border-radius: 50%;\n",
              "      cursor: pointer;\n",
              "      display: none;\n",
              "      fill: #1967D2;\n",
              "      height: 32px;\n",
              "      padding: 0 0 0 0;\n",
              "      width: 32px;\n",
              "    }\n",
              "\n",
              "    .colab-df-convert:hover {\n",
              "      background-color: #E2EBFA;\n",
              "      box-shadow: 0px 1px 2px rgba(60, 64, 67, 0.3), 0px 1px 3px 1px rgba(60, 64, 67, 0.15);\n",
              "      fill: #174EA6;\n",
              "    }\n",
              "\n",
              "    [theme=dark] .colab-df-convert {\n",
              "      background-color: #3B4455;\n",
              "      fill: #D2E3FC;\n",
              "    }\n",
              "\n",
              "    [theme=dark] .colab-df-convert:hover {\n",
              "      background-color: #434B5C;\n",
              "      box-shadow: 0px 1px 3px 1px rgba(0, 0, 0, 0.15);\n",
              "      filter: drop-shadow(0px 1px 2px rgba(0, 0, 0, 0.3));\n",
              "      fill: #FFFFFF;\n",
              "    }\n",
              "  </style>\n",
              "\n",
              "      <script>\n",
              "        const buttonEl =\n",
              "          document.querySelector('#df-acbd63fd-3afa-4184-8dc8-3bfc3fe5e9e9 button.colab-df-convert');\n",
              "        buttonEl.style.display =\n",
              "          google.colab.kernel.accessAllowed ? 'block' : 'none';\n",
              "\n",
              "        async function convertToInteractive(key) {\n",
              "          const element = document.querySelector('#df-acbd63fd-3afa-4184-8dc8-3bfc3fe5e9e9');\n",
              "          const dataTable =\n",
              "            await google.colab.kernel.invokeFunction('convertToInteractive',\n",
              "                                                     [key], {});\n",
              "          if (!dataTable) return;\n",
              "\n",
              "          const docLinkHtml = 'Like what you see? Visit the ' +\n",
              "            '<a target=\"_blank\" href=https://colab.research.google.com/notebooks/data_table.ipynb>data table notebook</a>'\n",
              "            + ' to learn more about interactive tables.';\n",
              "          element.innerHTML = '';\n",
              "          dataTable['output_type'] = 'display_data';\n",
              "          await google.colab.output.renderOutput(dataTable, element);\n",
              "          const docLink = document.createElement('div');\n",
              "          docLink.innerHTML = docLinkHtml;\n",
              "          element.appendChild(docLink);\n",
              "        }\n",
              "      </script>\n",
              "    </div>\n",
              "  </div>\n",
              "  "
            ],
            "text/plain": [
              "            source  ... sentiment\n",
              "0              ABC  ...  Positive\n",
              "1              UPI  ...   Neutral\n",
              "2  The Japan Times  ...   Neutral\n",
              "3            Devex  ...   Neutral\n",
              "4        Firstpost  ...   Neutral\n",
              "\n",
              "[5 rows x 8 columns]"
            ]
          },
          "metadata": {},
          "execution_count": 212
        }
      ],
      "source": [
        "df = df.join(pd.json_normalize(df['sentiment_results']))\n",
        "df.head()\n"
      ]
    },
    {
      "cell_type": "code",
      "execution_count": null,
      "metadata": {
        "id": "opwgwbsGPlo2"
      },
      "outputs": [],
      "source": [
        "Train_X, Test_X, Train_Y, Test_Y = model_selection.train_test_split(df['clean_text'],df['sentiment'],test_size=0.3)\n"
      ]
    },
    {
      "cell_type": "code",
      "execution_count": null,
      "metadata": {
        "id": "GM0os4cvPwn0"
      },
      "outputs": [],
      "source": [
        "Encoder = LabelEncoder()\n",
        "Train_Y = Encoder.fit_transform(Train_Y)\n",
        "Test_Y = Encoder.fit_transform(Test_Y)\n"
      ]
    },
    {
      "cell_type": "code",
      "execution_count": null,
      "metadata": {
        "colab": {
          "base_uri": "https://localhost:8080/"
        },
        "id": "IOYAp65vP8mz",
        "outputId": "3acabe7b-99f6-4ece-f469-4eefdf8107bd"
      },
      "outputs": [
        {
          "output_type": "stream",
          "name": "stdout",
          "text": [
            "{'australia': 351, 'first': 854, 'intern': 1064, 'tourist': 1903, 'come': 540, 'border': 416, 'reopen': 1600, 'februari': 834, '21': 85, 'china': 505, 'hasnt': 962, 'report': 1604, 'covid19': 596, 'death': 647, 'year': 2054, 'zero': 2061, 'toler': 1892, 'glimmer': 910, 'hope': 995, 'doomsday': 715, 'clock': 522, 'stuck': 1805, '100': 4, 'second': 1683, '2021': 74, 'timelin': 1888, 'coronaviru': 584, 'outbreak': 1389, 'explain': 800, 'want': 2005, 'know': 1118, 'ski': 1744, 'jump': 1109, 'beij': 387, 'winter': 2032, 'olymp': 1365, '2022': 76, 'covid': 595, 'live': 1173, 'updat': 1962, 'record': 1575, 'highest': 974, 'daili': 633, 'number': 1349, 'valneva': 1976, 'inactiv': 1032, 'vaccin': 1973, 'candid': 451, 'shown': 1722, 'new': 1324, 'zealand': 2060, 'open': 1375, 'neighbour': 1320, 'never': 1323, 'felt': 836, 'case': 462, 'plummet': 1460, 'asia': 337, 'scientist': 1671, 'sure': 1825, '22': 88, 'reportedli': 1605, 'take': 1838, 'uganda': 1944, 'airport': 279, 'account': 235, 'loan': 1175, 'default': 655, 'news': 1325, 'gurgaon': 946, 'haryana': 961, 'citi': 515, 'close': 523, 'cinema': 513, 'sport': 1765, 'centr': 480, 'offic': 1359, 'head': 964, 'toward': 1904, 'carbon': 457, 'neutral': 1322, '2060': 82, 'presid': 1496, 'xi': 2053, 'translat': 1914, 'youtub': 2059, 'comment': 543, 'languag': 1133, 'tighten': 1884, 'test': 1866, 'travel': 1917, 'amid': 294, 'omicron': 1367, 'worri': 2045, 'austria': 352, 'go': 914, 'full': 885, 'lockdown': 1179, 'surg': 1826, 'influenc': 1048, 'south': 1756, 'vulner': 2002, 'resili': 1610, 'cross': 611, 'million': 1254, 'dose': 717, '52': 181, 'cr': 604, 'shot': 1719, 'count': 587, 'race': 1544, '40': 148, 'popul': 1476, 'june': 1110, 'end': 760, 'india': 1037, 'highlight': 976, 'get': 903, 'avoid': 358, 'restrict': 1614, 'johnson': 1103, 'ters': 1864, 'messag': 1243, 'uk': 1946, 'five': 855, 'thing': 1872, 'need': 1316, 'start': 1774, 'day': 642, 'corona': 582, 'feb': 833, 'contract': 575, 'spread': 1767, 'infect': 1046, '34': 134, 'states': 1778, 'ut': 1969, 'wit': 2033, 'declin': 654, 'say': 1661, 'health': 965, 'ministri': 1258, 'merck': 1241, 'ridgeback': 1626, 'announc': 302, '31': 125, 'cours': 591, 'csaf': 618, 'cmsaf': 528, 'conduct': 559, 'virtual': 1991, 'allcal': 284, 'airman': 278, 'kept': 1114, 'bay': 377, 'could': 585, 'chang': 490, 'japan': 1093, 'booster': 415, 'rollout': 1635, 'reli': 1595, 'pfizer': 1440, 'moderna': 1269, 'tesla': 1865, 'subpoena': 1808, 'sec': 1681, 'promot': 1517, 'antiparasit': 311, 'drug': 725, 'ivermectin': 1086, 'januari': 1092, 'global': 911, 'stock': 1787, 'notch': 1341, 'worst': 2047, 'week': 2017, 'indiachina': 1038, 'game': 894, 'oneupmanship': 1371, 'wave': 2012, 'batter': 375, 'afghanistan': 262, 'crumbl': 615, 'care': 459, 'cdc': 473, 'add': 245, 'israel': 1080, 'high': 972, 'risk': 1630, 'categori': 468, 'warn': 2007, '130': 30, 'countri': 589, 'tsunami': 1933, 'reach': 1561, '3meter': 146, 'possibl': 1479, 'osaka': 1385, 'medic': 1236, 'emerg': 754, 'hospit': 997, 'bed': 383, 'viru': 1992, 'school': 1670, 'class': 517, 'monday': 1274, 'gujarat': 945, 'recon': 1574, 'jj': 1099, 'temporarili': 1857, 'halt': 954, 'product': 1509, 'variant': 1978, 'decis': 652, 'child': 503, '15': 40, 'per': 1435, 'ntagi': 1347, 'recommend': 1573, 'govt': 924, '11': 19, 'pandem': 1407, 'true': 1931, 'toll': 1893, 'offici': 1360, 'tackl': 1836, 'crisi': 608, 'older': 1364, 'peopl': 1434, 'lesson': 1158, 'authoris': 355, 'coronavac': 583, 'climat': 521, 'goal': 916, 'hing': 982, '440': 161, 'billion': 400, 'nuclear': 1348, 'power': 1485, 'plan': 1449, 'peac': 1429, 'envoy': 770, 'conflictriven': 563, 'horn': 996, 'africa': 263, 'waiver': 2003, 'propos': 1520, 'wto': 2051, 'talk': 1841, 'trade': 1910, '70': 204, 'show': 1720, 'custom': 627, 'data': 638, 'remark': 1597, 'biden': 395, 'fight': 843, 'govern': 922, 'give': 906, 'nod': 1334, 'cipla': 514, 'import': 1029, 'latest': 1139, 'boston': 419, 'mass': 1227, 'england': 766, 'beyond': 392, 'tend': 1859, 'meet': 1238, 'august': 350, '17': 50, 'cumul': 620, 'coverag': 594, '56': 185, 'crore': 610, 'mumbai': 1295, '200': 69, '2nd': 118, 'row': 1638, 'look': 1184, 'familiar': 821, 'rapid': 1558, 'push': 1534, 'nearli': 1313, 'poverti': 1484, 'theyr': 1871, 'struggl': 1804, 'escap': 772, 'mark': 1222, 'cervic': 485, 'cancer': 450, 'elimin': 753, 'use': 1968, 'biontech': 403, 'sourc': 1755, 'make': 1202, 'lovabl': 1187, 'around': 330, 'world': 2043, 'may': 1231, 'tough': 1900, 'job': 1101, 'itali': 1082, '25735': 104, 'fresh': 881, '386': 141, 'anoth': 303, 'ship': 1713, 'loom': 1185, 'fear': 831, 'southern': 1757, 'jab': 1087, 'ask': 339, 'concern': 556, 'interest': 1063, 'lack': 1127, 'quick': 1540, 'diagnos': 684, 'delta': 664, 'complic': 554, 'treatment': 1918, 'overtak': 1400, 'becom': 382, 'richest': 1625, 'nation': 1308, 'wealth': 2013, 'tripl': 1927, 'last': 1136, 'two': 1939, 'decad': 649, 'seek': 1688, 'approv': 323, '16': 45, '17yearold': 58, 'g7': 889, 'rival': 1632, 'grand': 927, 'infrastructur': 1050, 'origin': 1384, 'fort': 873, 'detrick': 678, 'lab': 1124, 'tell': 1855, 'pm': 1461, 'modi': 1270, 'review': 1622, 'prepared': 1494, 'system': 1835, 'suppli': 1822, 'jinp': 1098, 'left': 1154, '600': 191, 'attend': 348, 'cpi': 603, 'congratul': 565, 'administ': 249, 'mn': 1267, 'achiev': 238, 'mileston': 1253, 'singl': 1733, 'dr': 720, 'reddi': 1580, 'sputnik': 1770, 'local': 1176, 'back': 365, 'happen': 959, 'opinion': 1377, 'mutual': 1299, 'carbi': 456, 'summit': 1817, 'communiqué': 547, 'mysteri': 1300, 'lableak': 1125, 'theori': 1868, 'detect': 677, 'trigger': 1923, 'alarm': 282, 'urg': 1964, 'caution': 470, 'extraordinari': 806, 'strateg': 1795, 'advisori': 259, 'group': 936, 'indonesia': 1041, 'doctor': 706, 'fell': 835, 'sick': 1724, 'mani': 1214, 'die': 685, 'chinesemad': 508, 'sinovac': 1737, 'took': 1896, 'sainik': 1649, 'admit': 251, 'student': 1806, 'academ': 231, '202223': 77, 'next': 1327, 'corner': 581, 'expert': 799, 'lucki': 1191, 'woman': 2039, 'win': 2031, '74': 207, 'instant': 1059, 'millionair': 1255, 'appear': 318, 'fast': 825, 'washington': 2009, 'state': 1775, 'telangana': 1854, 'hyderabad': 1008, 'multibagg': 1293, '2750': 111, 'return': 1619, '221': 89, 'smallcap': 1749, 'doubl': 718, 'money': 1275, 'check': 497, 'list': 1171, 'leak': 1148, 'wuhan': 2052, 'feud': 839, 'adopt': 253, 'glasgow': 909, 'pact': 1405, 'operation': 1376, 'studi': 1807, 'mandatori': 1211, 'rule': 1640, 'indian': 1039, 'maharashtra': 1199, 'relax': 1592, 'guidelin': 943, 'what': 2024, 'allow': 286, 'chine': 507, 'le': 1145, 'effect': 746, 'seychel': 1707, 'earth': 738, '648': 195, 'pc': 1428, 'elig': 752, 'receiv': 1570, 'polici': 1469, 'spark': 1760, 'protest': 1523, 'town': 1905, 'paranoia': 1413, 'communist': 548, 'parti': 1418, 'third': 1873, 'sever': 1705, 'view': 1987, 'bioweapon': 404, 'warfar': 2006, 'strategi': 1796, 'secur': 1686, 'yet': 2057, 'in': 1031, 'shakti': 1709, 'tonn': 1895, 'oxygen': 1402, 'sri': 1771, 'lanka': 1134, 'shape': 1711, 'eight': 748, 'chart': 495, 'kerala': 1115, '19325': 63, 'covid29': 599, 'hold': 987, 'exam': 788, 'septemb': 1695, '24': 99, 'carri': 460, 'support': 1823, 'respons': 1612, 'ceo': 481, 'like': 1165, 'protect': 1522, 'caus': 469, 'lankan': 1135, 'econom': 743, 'cbse': 471, 'term1': 1862, 'board': 408, '10': 3, '12': 26, 'offlin': 1361, 'datesheet': 640, 'forc': 870, 'coercion': 532, 'drive': 722, 'equip': 771, 'aid': 271, 'sent': 1694, 'via': 1983, 'red': 1579, 'evolv': 787, 'mouse': 1287, 'promis': 1516, 'mention': 1240, 'mean': 1233, 'highlyvaccin': 977, 'ever': 782, 'singapor': 1730, 'endem': 761, 'might': 1251, 'social': 1751, 'medium': 1237, 'platform': 1454, 'remov': 1598, 'relat': 1591, 'post': 1480, 'famili': 820, 'keep': 1112, 'necess': 1315, 'ahead': 270, 'fine': 851, 'ban': 368, 'american': 293, 'cold': 534, 'here': 971, 'schedul': 1668, 'commerci': 544, 'passeng': 1421, 'flight': 861, 'extend': 804, 'till': 1886, 'novemb': 1345, '30': 119, 'aig': 272, 'result': 1615, 'monoclon': 1277, 'antibodi': 306, 'therapi': 1870, 'durga': 731, 'pooja': 1472, 'rush': 1642, 'caseload': 463, 'bengal': 390, 'near': 1312, '1000': 5, 'kolkata': 1119, 'top': 1897, 'talli': 1842, 'chinataiwan': 506, 'tussl': 1938, 'polic': 1468, 'prohibit': 1513, 'visit': 1995, 'beach': 380, 'sea': 1676, 'face': 809, 'garden': 896, 'hour': 1002, 'economi': 744, 'beat': 381, 'research': 1608, 'miner': 1256, 'time': 1887, 'break': 426, 'tmc': 1890, 'mp': 1289, 'arpita': 331, 'ghosh': 904, 'resign': 1609, 'rajya': 1553, 'sabha': 1645, 'six': 1741, 'upandcom': 1961, 'build': 436, '43': 159, 'coalfir': 530, 'plant': 1451, 'still': 1786, 'cut': 628, 'emiss': 756, 'low': 1189, 'grade': 925, 'fever': 840, 'symptom': 1833, 'dismiss': 696, 'trump': 1932, 'usd': 1967, 'trillion': 1924, 'compens': 551, 'demand': 665, 'weekli': 2019, 'market': 1223, 'delhi': 662, 'cm': 527, 'arvind': 336, 'kejriw': 1113, '20367': 81, 'navi': 1310, 'paus': 1426, 'warship': 2008, 'deploy': 670, 'america': 292, 'un': 1950, 'join': 1104, 'critic': 609, 'pledg': 1458, 'hundr': 1007, 'far': 822, '5326': 182, 'octob': 1357, '14': 37, 'control': 576, 'grow': 938, 'gener': 900, 'version': 1982, 'pill': 1445, '95': 223, 'sarscov2': 1655, 'asymptomat': 344, '100day': 10, 'countdown': 588, 'boycott': 422, 'call': 445, 'weigh': 2020, 'fastest': 826, 'puducherri': 1530, 'lone': 1182, 'sipri': 1739, 'arm': 329, 'industri': 1044, 'flourish': 862, 'despit': 674, 'readi': 1564, 'situat': 1740, 'assur': 342, '3000': 120, 'arrang': 332, 'rajasthan': 1551, 'penalti': 1433, 'hit': 984, 'russia': 1643, 'persist': 1437, 'log': 1180, '6546': 196, 'inaugur': 1033, 'project': 1514, 'europ': 777, 'earlier': 737, 'thought': 1875, 'invit': 1071, 'democraci': 666, 'launch': 1140, '1st': 67, 'subvari': 1810, '1bn': 65, 'drone': 723, 'insid': 1056, 'drop': 724, '40000': 150, '695': 201, '20': 68, 'donald': 710, 'repar': 1601, 'map': 1218, 'track': 1907, 'least': 1150, 'one': 1370, 'given': 907, '18': 59, 'stay': 1782, '20000': 71, 'mount': 1286, 'evid': 786, 'suggest': 1814, 'safe': 1646, '700': 205, 'untreat': 1959, 'hypertens': 1010, 'fare': 824, 'ineffect': 1045, 'decemb': 650, '27': 108, 'ec': 742, 'secretari': 1684, 'expedit': 798, 'programm': 1511, 'pollbound': 1471, 'taliban': 1840, 'islam': 1078, 'emir': 755, 'recognit': 1572, 'identifi': 1014, 'plu': 1459, 'firm': 853, 'mrna': 1291, 'nov': 1342, 'disast': 692, 'measur': 1234, 'work': 2041, 'asian': 338, 'develop': 679, 'bank': 371, 'aiib': 273, 'process': 1507, 'buy': 442, 'progress': 1512, 'prospect': 1521, 'everyday': 784, 'bjp': 405, 'chief': 501, 'nadda': 1301, 'deputi': 671, 'ayodhya': 361, 'tomorrow': 1894, 'detail': 676, 'strengthen': 1798, 'connect': 567, 'chumbi': 512, 'valley': 1975, 'eastern': 741, 'command': 542, 'later': 1138, 'realiz': 1565, 'night': 1328, 'curfew': 623, '25': 102, 'franc': 877, 'portug': 1477, 'greec': 932, 'month': 1278, 'part': 1417, 'reason': 1567, 'adolesc': 252, 'adult': 254, '66': 198, 'dharwad': 683, 'posit': 1478, 'rethink': 1618, 'bubbl': 435, 'built': 437, 'villag': 1988, 'disput': 697, 'territori': 1863, 'arunach': 335, 'today': 1891, 'fulli': 886, 'fre': 878, 'hong': 994, 'kong': 1120, 'alert': 283, 'venu': 1981, 'capac': 453, 'tamil': 1843, 'nadu': 1302, '1170': 23, 'patent': 1424, 'right': 1628, 'fair': 815, 'almost': 287, 'certainli': 483, 'amit': 295, 'shah': 1708, 'jk': 1100, 'statehood': 1776, 'restor': 1613, 'delimit': 663, 'poll': 1470, '85': 216, 'ima': 1020, 'massiv': 1228, 'minor': 1259, 'faceoff': 810, 'tawang': 1847, 'troop': 1928, 'intrud': 1069, 'brace': 423, 'fauci': 829, 'superhuman': 1820, 'poorest': 1474, '2023': 78, '13': 29, 'understand': 1952, 'broken': 431, '100billion': 8, 'financ': 848, 'step': 1785, 'defend': 658, 'visa': 1994, 'curb': 622, 'strand': 1794, 'appropri': 322, 'combat': 539, 'touch': 1899, 'billionmark': 401, 'cancel': 449, 'offer': 1358, 'pune': 1531, 'district': 701, 'atrisk': 346, 'threat': 1877, 'impos': 1030, 'comeback': 541, 'signific': 1728, 'resurg': 1617, 'key': 1116, 'point': 1465, 'export': 802, 'help': 969, 'feat': 832, 'histori': 983, 'script': 1674, 'railway': 1548, 'station': 1780, 'plane': 1450, 'union': 1954, 'minist': 1257, 'inhal': 1051, 'boost': 414, 'devil': 680, 'siddaramaiah': 1725, 'celebr': 476, '100crore': 9, '8967croremark': 219, '13834': 35, '19': 62, 'lifelin': 1161, 'train': 1912, 'servic': 1699, 'resum': 1616, 'vacci': 1972, 'must': 1297, 'pay': 1427, 'damag': 635, 'along': 288, 'satellit': 1657, 'imag': 1021, 'holdout': 989, 'bbc': 378, 'fail': 814, 'prevent': 1498, 'deadli': 644, 'interview': 1066, 'desper': 673, 'ccp': 472, 'great': 929, 'success': 1811, 'big': 396, 'question': 1539, 'technocrat': 1853, 'domin': 709, 'poli': 1467, 'turn': 1937, 'challeng': 487, 'bulli': 439, 'covaxin': 593, 'ad': 243, 'oman': 1366, 'without': 2037, 'quarantin': 1537, 'karnataka': 1111, 'member': 1239, 'kpop': 1123, 'sensat': 1693, 'bt': 434, '14th': 39, 'among': 297, 'overrun': 1398, 'assam': 340, 'rifl': 1627, '1959': 64, 'shut': 1723, 'three': 1879, 'shanghai': 1710, '18531': 60, 'frozen': 883, 'tie': 1883, 'ladakh': 1128, 'chill': 504, 'lock': 1178, 'scare': 1666, 'begin': 385, 'provid': 1526, '100mn': 11, 'predict': 1490, 'festiv': 838, 'season': 1678, 'whether': 2026, 'reimpos': 1588, 'rise': 1629, 'provinc': 1527, 'sinovaccoronavac': 1738, 'spike': 1763, 'diseas': 695, '58': 186, 'maker': 1203, 'wors': 2046, 'malaria': 1204, '2020': 73, 'link': 1168, '23': 96, 'gather': 898, 'locat': 1177, 'effort': 747, 'oil': 1363, 'ralli': 1554, 'continu': 574, 'outstrip': 1395, 'marseil': 1224, 'good': 921, 'natur': 1309, 'send': 1692, 'free': 879, 'expect': 797, 'peak': 1431, 'ofgem': 1362, 'energi': 763, 'regul': 1587, 'ukrain': 1948, 'conflict': 562, 'would': 2048, 'bill': 399, 'higher': 973, 'bat': 374, 'hell': 968, 'singer': 1731, 'meat': 1235, 'loaf': 1174, 'age': 266, 'wife': 2029, 'side': 1726, 'cheer': 498, 'parliament': 1415, 'proceed': 1506, 'contain': 571, 'essenti': 773, 'hollywood': 991, 'grovel': 937, 'realli': 1566, 'defenc': 657, 'rajnath': 1552, 'singh': 1732, 'ontario': 1374, '2254': 92, 'hamster': 956, 'pet': 1439, 'shop': 1714, 'worker': 2042, '1114': 20, '447': 162, 'jan': 1090, 'rage': 1546, '45k': 167, 'run': 1641, 'lakh': 1130, 'activ': 242, 'peloton': 1432, 'stori': 1790, 'issu': 1081, 'fo': 865, 'cri': 607, 'everi': 783, 'bai': 367, 'seal': 1677, 'papua': 1411, 'guinea': 944, 'neetpg': 1317, 'admiss': 250, 'graduat': 926, 'held': 967, 'repeat': 1602, 'approach': 321, 'crypto': 616, 'ftse': 884, 'twoyear': 1940, 'shorter': 1717, 'durat': 730, 'hardhit': 960, 'iran': 1072, '39819': 143, 'declar': 653, 'ottawa': 1388, 'ea': 735, 'narendra': 1307, 'repli': 1603, 'motion': 1284, 'thank': 1867, 'address': 247, 'hijab': 980, 'court': 592, 'adjourn': 248, 'hear': 966, 'wednesday': 2016, '3day': 144, 'sch': 1667, 'covidsaf': 601, 'hightech': 979, '356': 135, 'lowest': 1190, 'sinc': 1729, 'coup': 590, 'focus': 867, 'footbal': 868, 'african': 264, 'sinopharm': 1736, 'infecti': 1047, 'deadlier': 645, '109': 16, 'mln': 1266, 'water': 2011, 'gold': 919, 'ramp': 1555, 'sixfold': 1742, 'fix': 858, 'distribut': 700, 'chain': 486, 'omicronfuel': 1369, 'plateau': 1453, 'wast': 2010, 'expo': 801, 'urgent': 1965, 'confirm': 561, '165643': 48, '698': 202, '10x': 18, 'ago': 267, 'light': 1163, '171905': 52, '609': 192, 'see': 1687, 'hospitalis': 998, 'hockey': 985, 'team': 1850, 'miss': 1262, 'player': 1456, 'due': 729, '177282': 55, '714': 206, 'ice': 1012, 'hockeyrussia': 986, 'bolgareva': 410, 'covid19ria': 598, 'requir': 1607, 'european': 778, 'certif': 484, 'holder': 988, 'enter': 768, 'ceasefir': 475, 'chip': 509, 'act': 241, 'answer': 304, 'patient': 1425, 'codevelop': 531, 'digit': 688, 'app': 317, 'avril': 359, 'lavign': 1141, 'postpon': 1482, 'tour': 1901, 'date': 639, 'aviat': 357, 'growth': 939, 'trend': 1919, 'impact': 1025, 'forecast': 871, '2027': 79, 'endgam': 762, 'middlesex': 1248, 'icu': 1013, 'london': 1181, 'ont': 1373, 'tuesday': 1934, 'encourag': 759, 'figur': 845, 'set': 1701, 'lift': 1162, 'anticovid': 307, 'mlhu': 1265, 'fifth': 842, 'multipl': 1294, 'covid19rel': 597, 'east': 740, 'slow': 1748, 'human': 1005, 'reveal': 1621, 'insight': 1057, '119': 24, 'steadi': 1783, 'foreign': 872, 'pilgrim': 1444, 'present': 1495, 'neg': 1318, 'saudi': 1659, 'arabia': 325, 'revis': 1623, 'protocol': 1524, 'umrah': 1949, 'recoveri': 1578, '3013': 123, '3852': 140, '4541': 165, '5873': 187, 'regist': 1586, '4535': 164, '5000': 175, '3068': 124, 'dubai': 727, '100000': 7, 'suspici': 1829, 'move': 1288, 'taxi': 1848, 'uae': 1941, '1615': 47, '2219': 90, 'normal': 1337, 'vow': 2001, 'welfar': 2022, 'rangatahi': 1557, 'expat': 796, 'releas': 1594, 'video': 1986, 'public': 1529, 'transport': 1915, 'prove': 1525, 'uitp': 1945, 'bos': 418, 'stop': 1789, 'indor': 1043, 'defi': 659, 'dubaibound': 728, 'uttar': 1971, 'pradesh': 1486, 'imd': 1022, 'condit': 558, '5052': 179, 'substanti': 1809, 'cvd': 629, 'burden': 440, 'disrupt': 698, '11500': 21, 'includ': 1034, 'lucknow': 1192, '13830': 34, 'stand': 1773, '93757': 222, '2779': 112, 'canadian': 448, 'block': 406, 'busiest': 441, 'north': 1338, 'tension': 1861, 'pick': 1443, 'pace': 1403, 'unnecessarili': 1957, 'impati': 1026, 'du': 726, 'vc': 1979, '54': 183, 'sale': 1651, 'nan': 1305, 'novavax': 1344, 'underdeliv': 1951, 'colleg': 537, 'statu': 1781, 'began': 384, 'tri': 1920, 'recalcul': 1569, 'sen': 1690, 'greater': 930, 'proport': 1519, 'unvaccin': 1960, 'mask': 1226, 'pas': 1420, 'bori': 417, '259': 105, 'turkish': 1936, 'rate': 1559, 'author': 354, 'area': 327, 'chapter': 493, '54095': 184, '75': 208, 'across': 240, 'ba2': 364, 'canada': 447, 'threaten': 1878, 'saskatchewan': 1656, 'order': 1383, 'passport': 1422, 'compar': 550, 'capit': 454, 'trucker': 1930, 'korea': 1122, 'bc': 379, 'fewer': 841, 'person': 1438, 'addit': 246, 'major': 1201, 'benefit': 389, 'mother': 1283, 'final': 847, 'fall': 817, 'usa': 1966, 'ge': 899, 'suspend': 1828, 'suprem': 1824, 'indoor': 1042, 'mandat': 1210, 'soon': 1754, 'better': 391, 'wont': 2040, '500m': 178, 'gate': 897, 'flu': 863, 'riski': 1631, 'elementari': 751, 'kid': 1117, 'learn': 1149, 'fact': 812, 'virus': 1993, 'instruct': 1061, 'accuraci': 237, 'chicago': 500, 'inperson': 1055, 'singleday': 1734, '138': 33, 'midfebruari': 1249, 'gonzaga': 920, 'banish': 370, 'hall': 953, 'famer': 819, 'john': 1102, 'stockton': 1788, '3k': 145, '4509': 163, '14112': 38, '1151': 22, '2298': 95, '10000': 6, '9711': 226, '9669': 225, '16878': 49, 'biggest': 397, 'pandemic': 1408, '10307': 13, '22524': 91, '860': 218, 'fatal': 827, '42k': 158, 'tpr': 1906, 'dip': 690, '422': 157, '33538': 132, 'thiruvananthapuram': 1874, '48905': 171, '49771': 172, '26k': 107, '477': 169, 'also': 289, '326': 129, 'noida': 1335, '2000': 70, 'straight': 1791, 'leed': 1153, 'landmark': 1132, 'lit': 1172, 'compet': 552, 'coimbator': 533, '2000mark': 72, 'cull': 619, 'current': 626, 'gurugram': 947, '1518': 43, 'mandaviya': 1212, 'withdraw': 2035, 'sunday': 1818, '29471': 115, '28': 113, '83876': 213, 'goa': 915, '469': 168, '1794': 57, '32': 127, 'dh': 682, 'wane': 2004, '955': 224, '777': 210, '08': 2, 'eye': 807, 'seat': 1679, 'utpal': 1970, 'parrikar': 1416, 'refus': 1583, 'pramod': 1487, 'sawant': 1660, 'news18': 1326, '2476': 100, '4000': 149, '3232': 128, '3274': 130, 'hr': 1003, '38': 139, '2174': 87, '41': 154, 'cent': 478, 'gu': 940, 'onlin': 1372, 'elect': 750, 'aap': 229, 'worldclass': 2044, '13yearold': 36, 'rodolfo': 1634, 'fighter': 844, 'mom': 1272, 'priyanka': 1502, 'gandhi': 895, 'defect': 656, 'buzzword': 443, 'wilfr': 2030, 'sa': 1644, 'attempt': 347, 'nuvem': 1351, 'isl': 1077, '202122': 75, 'chennaiyin': 499, 'fc': 830, '3728': 138, '394': 142, 'succumb': 1812, 'antidefect': 308, 'affidavit': 261, 'legal': 1156, 'valid': 1974, 'lawyer': 1144, 'pride': 1500, 'malic': 1207, '40499': 153, '43697': 160, '214': 86, 'clueless': 526, 'basi': 373, 'commun': 546, '2522': 103, '4578': 166, 'chose': 510, 'taint': 1837, 'cong': 564, 'manohar': 1216, 'ajgaonkar': 281, 'raj': 1550, 'bhavan': 393, 'remain': 1596, 'visitor': 1996, 'read': 1562, 'nehru': 1319, 'fend': 837, 'peacelov': 1430, 'leader': 1146, 'salvo': 1652, 'fill': 846, 'liquor': 1170, 'bottl': 420, 'footwear': 869, 'postcovid': 1481, 'find': 850, '3119': 126, 'mamata': 1208, 'banerje': 369, 'unlik': 1956, 'campaign': 446, 'assembl': 341, '1592': 44, '10k': 17, '3390': 133, 'cant': 452, 'namesak': 1304, '238': 98, '1605': 46, '826': 212, 'seven': 1704, 'past': 1423, '7895': 211, 'nitin': 1332, 'gadkari': 891, 'mild': 1252, 'goe': 918, 'home': 993, 'isol': 1079, 'covidhit': 600, 'settl': 1703, 'northeast': 1339, 'voic': 1999, 'nightingal': 1330, 'irreplac': 1076, 'governor': 923, 'prime': 1501, 'gmc': 913, 'therapeut': 1869, 'plasma': 1452, 'ardhofond': 326, 'bridg': 427, '3rd': 147, 'vizag': 1997, 'four': 875, 'arrest': 333, 'sell': 1689, 'procur': 1508, 'opposit': 1379, 'daydream': 643, 'divis': 703, 'vote': 2000, 'western': 2023, 'showcas': 1721, 'legaci': 1155, 'panaji': 1406, 'son': 1753, 'contest': 572, 'independ': 1036, 'within': 2036, 'sweden': 1830, 'rbi': 1560, 'mpc': 1290, 'holiday': 990, 'capt': 455, 'viriato': 1990, 'clean': 520, 'mauvin': 1230, 'godinho': 917, 'dabol': 632, 'manifesto': 1215, 'calangut': 444, 'joseph': 1106, 'sequeira': 1696, 'congress': 566, 'micha': 1246, 'brief': 428, 'seci': 1682, 'alleg': 285, 'bid': 394, 'implic': 1028, 'fals': 818, '298': 117, '126': 28, '134': 32, 'statewid': 1779, 'juli': 1108, '26': 106, '9000': 220, '1896': 61, 've': 1980, 'leav': 1151, 'cruis': 614, 'sail': 1648, '15058': 42, '2740': 110, 'found': 874, 'limit': 1166, 'pack': 1404, 'domest': 708, '9month': 228, 'period': 1436, 'outclass': 1390, 'pro': 1503, 'leagu': 1147, 'halfterm': 952, 'png': 1462, 'marap': 1219, 'scrap': 1673, 'outsid': 1394, 'eu': 775, 'humanigen': 1006, 'cenexi': 477, 'collabor': 535, 'manufactur': 1217, 'lenzilumab': 1157, '500000': 177, 'champion': 488, 'pogacar': 1464, 'setback': 1702, 'french': 880, 'sanofi': 1654, 'phase': 1441, 'trial': 1921, 'complet': 553, 'tenni': 1860, 'novak': 1343, 'djokov': 705, 'germani': 902, 'teacher': 1849, 'strike': 1803, 'chaotic': 492, '400000': 151, 'deficit': 660, 'level': 1159, 'rebound': 1568, 'wear': 2014, 'facil': 811, 'stress': 1799, 'battl': 376, 'huge': 1004, 'nowher': 1346, 'half': 951, 'uefa': 1943, 'implement': 1027, 'continent': 573, '24hour': 101, 'rich': 1624, 'danti': 637, 'ireland': 1074, 'illiteraci': 1019, 'boom': 413, 'brazil': 425, 'roundup': 1637, 'empti': 757, 'skorean': 1746, 'compani': 549, 'precaut': 1488, 'output': 1392, 'highli': 975, 'accur': 236, 'minut': 1260, 'play': 1455, 'rugbi': 1639, 'jordan': 1105, 'michallet': 1247, 'suicid': 1815, '50': 174, 'bn': 407, 'ukfranc': 1947, 'antivax': 314, 'coach': 529, 'fabien': 808, 'galthi': 893, 'total': 1898, 'yelp': 2056, 'tear': 1851, 'malaysia': 1205, 'young': 2058, 'democraticl': 667, 'made': 1197, '07': 1, '02': 0, 'austrian': 353, 'exhaust': 794, 'increas': 1035, '228179': 93, 'even': 780, 'hand': 958, 'rafal': 1545, 'jet': 1096, 'indiaspecif': 1040, 'enhanc': 767, 'iaf': 1011, 'scrutinis': 1675, 'characterist': 494, '360000': 136, '332398': 131, 'reintroduc': 1589, 'classroom': 519, 'athlet': 345, 'agre': 268, 'cooper': 579, 'partyg': 1419, 'scand': 1664, 'matt': 1229, 'hancock': 957, '368149': 137, 'book': 412, 'constitut': 570, 'council': 586, 'controversi': 577, 'hindu': 981, 'muslim': 1296, 'overshadow': 1399, '6am': 203, 'saturday': 1658, '400851': 152, 'seawe': 1680, 'thrown': 1880, 'macron': 1196, 'sign': 1727, 'mhr': 1245, 'bad': 366, 'boy': 421, 'tribut': 1922, 'lata': 1137, 'mangeshkar': 1213, 'deal': 646, 'briton': 430, 'consid': 569, 'ihu': 1016, 'janssen': 1091, 'done': 712, 'jail': 1088, 'dutert': 732, 'senat': 1691, 'amend': 291, 'transform': 1913, 'stricter': 1801, 'strictest': 1802, 'soar': 1750, '5th': 189, '104611': 14, 'consecut': 568, 'dizzi': 704, 'discov': 693, 'mutat': 1298, '4th': 173, 'lightn': 1164, 'speed': 1762, 'entri': 769, 'advis': 257, 'opt': 1380, '61340': 194, 'academi': 232, 'groundbreak': 935, 'ceremoni': 482, 'expand': 795, 'christma': 511, 'mix': 1264, 'fatigu': 828, 'love': 1188, 'space': 1758, 'law': 1143, 'special': 1761, 'line': 1167, 'rock': 1633, 'netherland': 1321, 'belgium': 388, 'tire': 1889, 'overburden': 1397, 'maha': 1198, '854': 217, '48': 170, 'recordbreak': 1576, 'behind': 386, 'march': 1220, 'recognis': 1571, 'antivir': 316, 'accept': 234, 'podcast': 1463, 'pangong': 1409, 'lake': 1129, '511': 180, 'probabl': 1504, 'shortstaf': 1718, '1day': 66, 'april': 324, 'elderli': 749, 'concert': 557, 'uptak': 1963, 'b16402': 363, '11pm5am': 25, 'ani': 301, 'antivaccin': 313, 'nearrecord': 1314, '84272': 214, 'initi': 1052, 'write': 2049, 'b11529': 362, 'rabiot': 1543, '270000': 109, 'sweep': 1831, 'aim': 274, 'earli': 736, 'herd': 970, 'immun': 1023, 'autumn': 356, 'acceler': 233, 'advisor': 258, '59019': 188, 'appoint': 320, 'morocco': 1280, 'psg': 1528, 'messi': 1244, 'other': 1387, '922': 221, 'air': 275, 'tianjin': 1881, '50000': 176, 'thousand': 1876, 'summer': 1816, 'everyth': 785, 'rampant': 1556, 'ucmtf': 1942, 'ignor': 1015, 'request': 1606, 'philippin': 1442, 'jean': 1095, 'castex': 465, 'mcbkyc': 1232, 'appli': 319, 'traffic': 1911, 'put': 1535, 'highrisk': 978, 'loot': 1186, 'fire': 852, 'martiniqu': 1225, '2314': 97, 'option': 1381, 'airlin': 277, 'turkey': 1935, 'except': 791, 'switzerland': 1832, 'spain': 1759, 'commiss': 545, 'poorer': 1473, 'taken': 1839, 'purpos': 1533, 'argentina': 328, 'green': 933, 'brunei': 432, 'oblig': 1355, 'reject': 1590, 'prepar': 1493, 'white': 2028, 'exce': 790, '150': 41, 'antivaxx': 315, 'street': 1797, 'mali': 1206, 'bomb': 411, 'lionel': 1169, 'fli': 860, 'nightli': 1331, 'sharp': 1712, 'outdoor': 1391, 'pari': 1414, '30000': 121, 'monitor': 1276, 'name': 1303, 'mu': 1292, 'kontri': 1121, 'dey': 681, 'introduc': 1068, 'cryptocurr': 617, 'session': 1700, '9k': 227, 'donat': 711, 'resourc': 1611, 'morn': 1279, 'quebec': 1538, 'infra': 1049, 'dire': 691, 'strait': 1793, 'demonstr': 668, 'sixth': 1743, 'weekend': 2018, 'spurt': 1769, 'guadeloup': 941, 'crazi': 606, 'super': 1819, 'strain': 1792, 'led': 1152, 'extra': 805, 'non': 1336, 'advic': 256, 'chiffr': 502, 'et': 774, 'cart': 461, 'en': 758, 'au': 349, 'février': 887, 'bilan': 398, 'mardi': 1221, 'iledefr': 1017, 'ce': 474, 'mercredi': 1242, 'taux': 1846, 'dincid': 689, 'par': 1412, 'département': 734, '691': 200, 'mort': 1282, 'lundi': 1193, 'dan': 636, 'mond': 1273, 'abolish': 230, 'donor': 713, 'differ': 686, 'whatev': 2025, 'weather': 2015, 'friday': 882, 'crucial': 613, 'nyt': 1353, '101864': 12, '415': 156, '77029': 209, '229': 94, 'investig': 1070, 'curl': 624, 'crack': 605, 'strict': 1800, 'irish': 1075, 'citizen': 516, 'stellanti': 1784, 'van': 1977, 'engin': 765, 'shortag': 1716, 'italian': 1083, 'decid': 651, 'focu': 866, 'euro': 776, '2032': 80, 'draghi': 721, 'outrag': 1393, '20m': 84, 'lavish': 1142, 'gabin': 890, 'villièr': 1989, 'hattrick': 963, 'victori': 1985, 'short': 1715, 'trackfontana': 1909, 'skip': 1745, '41247': 155, 'victim': 1984, 'iliad': 1018, 'vodafon': 1998, 'miracl': 1261, 'nightclub': 1329, 'closur': 524, 'ten': 1858, 'fixtur': 859, 'farc': 823, 'whiff': 2027, 'saipem': 1650, 'sink': 1735, 'profit': 1510, 'cash': 464, 'nurs': 1350, 'fake': 816, 'inject': 1053, 'exchang': 792, 'proof': 1518, 'arriv': 334, 'glanc': 908, 'place': 1448, 'scanner': 1665, 'amritsar': 298, 'affect': 260, 'trip': 1926, 'tourism': 1902, 'sector': 1685, 'labour': 1126, 'exempt': 793, 'scrambl': 1672, 'grip': 934, 'seri': 1698, 'paolo': 1410, 'dal': 634, 'pino': 1447, 'quit': 1542, 'with': 2034, 'macquari': 1194, 'telstra': 1856, 'bodi': 409, 'tighter': 1885, 'macro': 1195, 'solidar': 1752, 'convoy': 578, 'oppos': 1378, 'over50': 1396, 'airbu': 276, 'qatar': 1536, 'airway': 280, 'jgl': 1097, 'ink': 1054, 'mou': 1285, 'univers': 1955, 'exposur': 803, 'reader': 1563, 'card': 458, 'long': 1183, 'postviru': 1483, 'trauma': 1916, 'sex': 1706, 'life': 1160, 'object': 1354, 'pink': 1446, 'duti': 733, 'exampl': 789, 'inspir': 1058, 'cycletowork': 630, 'scheme': 1669, 'dont': 714, 'discrimin': 694, 'amnesti': 296, 'norway': 1340, 'region': 1585, 'orang': 1382, 'zone': 2062, 'tracker': 1908, 'ncdc': 1311, 'morri': 1281, 'homan': 992, 'quietli': 1541, 'tech': 1852, 'prolif': 1515, 'antagonist': 305, 'host': 999, 'collect': 536, 'underway': 1953, 'relay': 1593, 'denmark': 669, 'agc': 265, 'biolog': 402, 'omicronbas': 1368, 'refineri': 1582, '67597': 199, 'curlingcurl': 625, 'crowd': 612, 'punjab': 1532, '125': 27, 'italyamritsar': 1084, 'flyer': 864, 'man': 1209, 'dodg': 707, 'financi': 849, '61046': 193, 'returne': 1620, 'chandigarh': 489, 'land': 1131, 'spur': 1768, 'antigovern': 309, 'rome': 1636, '6599': 197, 'predepartur': 1489, '179': 56, 'destin': 675, 'guardian': 942, 'angel': 300, 'surpass': 1827, 'probe': 1505, 'chao': 491, 'regim': 1584, 'covishield': 602, 'bullet': 438, 'immunologist': 1024, 'gain': 892, 'preval': 1497, 'institut': 1060, 'ticket': 1882, 'halv': 955, 'stadium': 1772, 'maidston': 1200, 'daughter': 641, '173': 53, 'compulsori': 555, '132000': 31, '60': 190, 'easi': 739, 'classifi': 518, 'renam': 1599, 'barcod': 372, 'tattoo': 1845, 'divid': 702, 'internet': 1065, 'digest': 687, 'hairstylist': 950, 'jaw': 1094, 'habib': 948, 'spit': 1764, 'hair': 949, 'charter': 496, 'sampl': 1653, 'italyreturn': 1085, 'genom': 901, 'sequenc': 1697, 'jalandhar': 1089, 'scammer': 1663, 'target': 1844, 'dozen': 719, 'colombia': 538, 'pope': 1475, 'eve': 779, '29682': 116, 'slight': 1747, '1754': 54, 'globe': 912, 'trophi': 1929, 'bring': 429, 'joy': 1107, 'suffer': 1813, 'said': 1647, 'greatest': 931, 'gift': 905, 'design': 672, 'antiomicron': 310, 'overwhelm': 1401, '10554': 15, '207': 83, 'moder': 1268, 'statement': 1777, 'advanc': 255, 'predomin': 1491, 'welcom': 2021, 'midmay': 1250, 'awash': 360, 'yellow': 2055, 'fourth': 876, 'analysi': 299, 'bryan': 433, 'adam': 244, 'symptomat': 1834, '170844': 51, 'fivefold': 857, 'antitrust': 312, 'amazon': 290, 'iraq': 1073, 'astrazeneca': 343, 'woe': 2038, 'wrong': 2050, 'osimhen': 1386, 'recov': 1577, 'napoli': 1306, 'intend': 1062, 'grant': 928, 'hotspot': 1001, 'intrigu': 1067, 'superimmun': 1821, 'center': 479, 'hot': 1000, 'spot': 1766, 'unrest': 1958, 'catalonia': 467, 'nye': 1352, 'factor': 813, '29': 114, 'oct2': 1356, 'g20': 888, 'cop26': 580, 'confer': 560, 'reduc': 1581, 'poland': 1466, 'agusta': 269, 'scam': 1662, 'cloud': 525, 'doortodoor': 716, 'ecuador': 745, 'enforc': 764, 'rahul': 1547, 'rais': 1549, 'moga': 1271, 'casualt': 466, '301': 122, '8444': 215, 'nkorea': 1333, 'hyperson': 1009, 'missil': 1263, 'pregnant': 1492, 'trimest': 1925, 'distanc': 699, 'fiveday': 856, 'acquir': 239, 'czechia': 631, 'cup': 621, 'playoff': 1457, 'bracket': 424, 'debat': 648, 'preview': 1499, 'deleverag': 661, 'event': 781}\n"
          ]
        }
      ],
      "source": [
        "Tfidf_vect = TfidfVectorizer(max_features=None)\n",
        "Tfidf_vect.fit(df['clean_text'])\n",
        "Train_X_Tfidf = Tfidf_vect.transform(Train_X)\n",
        "Test_X_Tfidf = Tfidf_vect.transform(Test_X)\n",
        "\n",
        "print(Tfidf_vect.vocabulary_)\n"
      ]
    },
    {
      "cell_type": "code",
      "execution_count": null,
      "metadata": {
        "colab": {
          "base_uri": "https://localhost:8080/"
        },
        "id": "MS8MUGDTQagb",
        "outputId": "887c76d7-0899-4fb9-d526-da726e5e5b1e"
      },
      "outputs": [
        {
          "output_type": "stream",
          "name": "stdout",
          "text": [
            "  (0, 1870)\t0.36168551669198684\n",
            "  (0, 1615)\t0.3491953586309861\n",
            "  (0, 1277)\t0.3777881310632147\n",
            "  (0, 1008)\t0.3777881310632147\n",
            "  (0, 997)\t0.29156380626244044\n",
            "  (0, 596)\t0.10813006837139251\n",
            "  (0, 306)\t0.3491953586309861\n",
            "  (0, 302)\t0.28770202372434267\n",
            "  (0, 272)\t0.4004834913309225\n",
            "  (1, 1592)\t0.5094339214754325\n",
            "  (1, 1530)\t0.5842571226454452\n",
            "  (1, 1179)\t0.41972256085222853\n",
            "  (1, 804)\t0.44504943996065577\n",
            "  (1, 596)\t0.15774873118533228\n",
            "  (2, 1941)\t0.3786672674603938\n",
            "  (2, 1661)\t0.2268721091832326\n",
            "  (2, 1477)\t0.3606799222016434\n",
            "  (2, 801)\t0.42200635197686437\n",
            "  (2, 727)\t0.3606799222016434\n",
            "  (2, 659)\t0.4473580912345846\n",
            "  (2, 596)\t0.12078615483233596\n",
            "  (2, 73)\t0.39006693780556423\n",
            "  (3, 1931)\t0.46618500765687937\n",
            "  (3, 1893)\t0.4064827750980095\n",
            "  (3, 1407)\t0.3070503950030597\n",
            "  :\t:\n",
            "  (655, 1461)\t0.2780819347379209\n",
            "  (655, 1307)\t0.3459431430243661\n",
            "  (655, 1270)\t0.2850225235864235\n",
            "  (655, 877)\t0.15072536236888726\n",
            "  (655, 729)\t0.28884833958278655\n",
            "  (655, 596)\t0.10712300373777017\n",
            "  (655, 462)\t0.14166411161488787\n",
            "  (655, 449)\t0.31988034313848085\n",
            "  (656, 1661)\t0.22791468536390475\n",
            "  (656, 1479)\t0.38040740852434257\n",
            "  (656, 1360)\t0.39185946532112303\n",
            "  (656, 1023)\t0.4494138965595813\n",
            "  (656, 970)\t0.4494138965595813\n",
            "  (656, 877)\t0.17073082990416327\n",
            "  (656, 596)\t0.12134121983541865\n",
            "  (656, 356)\t0.4494138965595813\n",
            "  (657, 1670)\t0.3543995855578436\n",
            "  (657, 1389)\t0.375784748750585\n",
            "  (657, 1324)\t0.20039353953372988\n",
            "  (657, 861)\t0.334563924391175\n",
            "  (657, 843)\t0.38962098083603813\n",
            "  (657, 595)\t0.16767969107990127\n",
            "  (657, 523)\t0.4301488351577176\n",
            "  (657, 505)\t0.24072467492489757\n",
            "  (657, 449)\t0.3977421138859721\n"
          ]
        }
      ],
      "source": [
        "print(Train_X_Tfidf)\n"
      ]
    },
    {
      "cell_type": "code",
      "execution_count": null,
      "metadata": {
        "colab": {
          "base_uri": "https://localhost:8080/"
        },
        "id": "So3b6QqnQmKL",
        "outputId": "df8bffde-3ac5-4dcc-f047-ec537260e461"
      },
      "outputs": [
        {
          "output_type": "stream",
          "name": "stdout",
          "text": [
            "SVM Accuracy Score ->  56.18374558303887\n"
          ]
        }
      ],
      "source": [
        "# Classifier - Algorithm - SVM\n",
        "# fit the training dataset on the classifier\n",
        "SVM = svm.SVC(C=1.0, kernel='linear', degree=3, gamma='auto')\n",
        "SVM.fit(Train_X_Tfidf,Train_Y)\n",
        "# predict the labels on validation dataset\n",
        "predictions_SVM = SVM.predict(Test_X_Tfidf)\n",
        "# Use accuracy_score function to get the accuracy\n",
        "print(\"SVM Accuracy Score -> \",accuracy_score(predictions_SVM, Test_Y)*100)\n"
      ]
    },
    {
      "cell_type": "code",
      "execution_count": null,
      "metadata": {
        "colab": {
          "base_uri": "https://localhost:8080/"
        },
        "id": "rVMW70wFSzBx",
        "outputId": "84bcbbde-edde-44c3-f46f-5adc86c734ba"
      },
      "outputs": [
        {
          "output_type": "execute_result",
          "data": {
            "text/plain": [
              "array([[  0,  16,   4,   0],\n",
              "       [  0, 144,  15,   1],\n",
              "       [  0,  61,  13,   1],\n",
              "       [  0,  26,   0,   2]])"
            ]
          },
          "metadata": {},
          "execution_count": 218
        }
      ],
      "source": [
        "confusion_matrix(Test_Y,predictions_SVM)\n"
      ]
    },
    {
      "cell_type": "code",
      "execution_count": null,
      "metadata": {
        "colab": {
          "base_uri": "https://localhost:8080/"
        },
        "id": "5XHdhbZyTCEq",
        "outputId": "105c8fe8-b8d6-46da-ea25-639d1ed31f92"
      },
      "outputs": [
        {
          "output_type": "stream",
          "name": "stdout",
          "text": [
            "              precision    recall  f1-score   support\n",
            "\n",
            "           0       0.00      0.00      0.00        20\n",
            "           1       0.58      0.90      0.71       160\n",
            "           2       0.41      0.17      0.24        75\n",
            "           3       0.50      0.07      0.12        28\n",
            "\n",
            "    accuracy                           0.56       283\n",
            "   macro avg       0.37      0.29      0.27       283\n",
            "weighted avg       0.49      0.56      0.48       283\n",
            "\n"
          ]
        },
        {
          "output_type": "stream",
          "name": "stderr",
          "text": [
            "/usr/local/lib/python3.7/dist-packages/sklearn/metrics/_classification.py:1318: UndefinedMetricWarning: Precision and F-score are ill-defined and being set to 0.0 in labels with no predicted samples. Use `zero_division` parameter to control this behavior.\n",
            "  _warn_prf(average, modifier, msg_start, len(result))\n",
            "/usr/local/lib/python3.7/dist-packages/sklearn/metrics/_classification.py:1318: UndefinedMetricWarning: Precision and F-score are ill-defined and being set to 0.0 in labels with no predicted samples. Use `zero_division` parameter to control this behavior.\n",
            "  _warn_prf(average, modifier, msg_start, len(result))\n",
            "/usr/local/lib/python3.7/dist-packages/sklearn/metrics/_classification.py:1318: UndefinedMetricWarning: Precision and F-score are ill-defined and being set to 0.0 in labels with no predicted samples. Use `zero_division` parameter to control this behavior.\n",
            "  _warn_prf(average, modifier, msg_start, len(result))\n"
          ]
        }
      ],
      "source": [
        "print(classification_report(Test_Y,predictions_SVM))\n",
        "\n"
      ]
    },
    {
      "cell_type": "code",
      "execution_count": null,
      "metadata": {
        "id": "X1wc3D7_Udx6"
      },
      "outputs": [],
      "source": [
        "from sklearn.metrics import classification_report"
      ]
    },
    {
      "cell_type": "code",
      "execution_count": null,
      "metadata": {
        "colab": {
          "base_uri": "https://localhost:8080/"
        },
        "id": "cT7hIX--UoUS",
        "outputId": "96196292-2f78-443c-a6fe-81afba0c77a5"
      },
      "outputs": [
        {
          "output_type": "stream",
          "name": "stdout",
          "text": [
            "[1]\n"
          ]
        }
      ],
      "source": [
        "review = \"\"\" covid vaccine is available\"\"\"\n",
        "review_vector = Tfidf_vect.transform([review])\n",
        "print(SVM.predict(review_vector))"
      ]
    }
  ],
  "metadata": {
    "colab": {
      "collapsed_sections": [],
      "name": "Copy of project covid",
      "provenance": [],
      "authorship_tag": "ABX9TyMEi0PDobcu2BA/fm4R4S0E",
      "include_colab_link": true
    },
    "kernelspec": {
      "display_name": "Python 3",
      "name": "python3"
    },
    "language_info": {
      "name": "python"
    }
  },
  "nbformat": 4,
  "nbformat_minor": 0
}